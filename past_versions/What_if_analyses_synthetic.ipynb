{
 "cells": [
  {
   "cell_type": "code",
   "execution_count": 2,
   "id": "f247445a",
   "metadata": {},
   "outputs": [],
   "source": [
    "import sys\n",
    "python_version = sys.version_info[0]"
   ]
  },
  {
   "cell_type": "code",
   "execution_count": 3,
   "id": "230584f8",
   "metadata": {},
   "outputs": [],
   "source": [
    "# If you're running on Colab, you'll need to install the What-if Tool package and authenticate on the TF instance\n",
    "def pip_install(module):\n",
    "    if python_version == '2':\n",
    "        !pip install {module} --quiet\n",
    "    else:\n",
    "        !pip3 install {module} --quiet\n",
    "\n",
    "try:\n",
    "    import google.colab\n",
    "    IN_COLAB = True\n",
    "except:\n",
    "    IN_COLAB = False\n",
    "\n",
    "if IN_COLAB:\n",
    "    pip_install('witwidget')\n",
    "\n",
    "    from google.colab import auth\n",
    "    auth.authenticate_user()"
   ]
  },
  {
   "cell_type": "code",
   "execution_count": 4,
   "id": "bd6f50c9",
   "metadata": {},
   "outputs": [
    {
     "name": "stdout",
     "output_type": "stream",
     "text": [
      "Requirement already satisfied: witwidget in c:\\users\\equipo\\anaconda3\\lib\\site-packages (1.8.1)\n",
      "Requirement already satisfied: ipywidgets>=7.0.0 in c:\\users\\equipo\\anaconda3\\lib\\site-packages (from witwidget) (7.6.5)\n",
      "Requirement already satisfied: six>=1.12.0 in c:\\users\\equipo\\anaconda3\\lib\\site-packages (from witwidget) (1.16.0)\n",
      "Requirement already satisfied: google-api-python-client>=1.7.8 in c:\\users\\equipo\\anaconda3\\lib\\site-packages (from witwidget) (2.54.0)\n",
      "Requirement already satisfied: absl-py>=0.4 in c:\\users\\equipo\\anaconda3\\lib\\site-packages (from witwidget) (1.2.0)\n",
      "Requirement already satisfied: tensorflow>=1.12.1 in c:\\users\\equipo\\anaconda3\\lib\\site-packages (from witwidget) (2.9.1)\n",
      "Requirement already satisfied: oauth2client>=4.1.3 in c:\\users\\equipo\\anaconda3\\lib\\site-packages (from witwidget) (4.1.3)\n",
      "Requirement already satisfied: httplib2<1dev,>=0.15.0 in c:\\users\\equipo\\anaconda3\\lib\\site-packages (from google-api-python-client>=1.7.8->witwidget) (0.20.4)\n",
      "Requirement already satisfied: google-api-core!=2.0.*,!=2.1.*,!=2.2.*,!=2.3.0,<3.0.0dev,>=1.31.5 in c:\\users\\equipo\\anaconda3\\lib\\site-packages (from google-api-python-client>=1.7.8->witwidget) (2.8.2)\n",
      "Requirement already satisfied: google-auth<3.0.0dev,>=1.19.0 in c:\\users\\equipo\\anaconda3\\lib\\site-packages (from google-api-python-client>=1.7.8->witwidget) (1.33.0)\n",
      "Requirement already satisfied: uritemplate<5,>=3.0.1 in c:\\users\\equipo\\anaconda3\\lib\\site-packages (from google-api-python-client>=1.7.8->witwidget) (4.1.1)\n",
      "Requirement already satisfied: google-auth-httplib2>=0.1.0 in c:\\users\\equipo\\anaconda3\\lib\\site-packages (from google-api-python-client>=1.7.8->witwidget) (0.1.0)\n",
      "Requirement already satisfied: googleapis-common-protos<2.0dev,>=1.56.2 in c:\\users\\equipo\\anaconda3\\lib\\site-packages (from google-api-core!=2.0.*,!=2.1.*,!=2.2.*,!=2.3.0,<3.0.0dev,>=1.31.5->google-api-python-client>=1.7.8->witwidget) (1.56.4)\n",
      "Requirement already satisfied: requests<3.0.0dev,>=2.18.0 in c:\\users\\equipo\\anaconda3\\lib\\site-packages (from google-api-core!=2.0.*,!=2.1.*,!=2.2.*,!=2.3.0,<3.0.0dev,>=1.31.5->google-api-python-client>=1.7.8->witwidget) (2.27.1)\n",
      "Requirement already satisfied: protobuf<5.0.0dev,>=3.15.0 in c:\\users\\equipo\\anaconda3\\lib\\site-packages (from google-api-core!=2.0.*,!=2.1.*,!=2.2.*,!=2.3.0,<3.0.0dev,>=1.31.5->google-api-python-client>=1.7.8->witwidget) (3.19.1)\n",
      "Requirement already satisfied: cachetools<5.0,>=2.0.0 in c:\\users\\equipo\\anaconda3\\lib\\site-packages (from google-auth<3.0.0dev,>=1.19.0->google-api-python-client>=1.7.8->witwidget) (4.2.2)\n",
      "Requirement already satisfied: setuptools>=40.3.0 in c:\\users\\equipo\\anaconda3\\lib\\site-packages (from google-auth<3.0.0dev,>=1.19.0->google-api-python-client>=1.7.8->witwidget) (61.2.0)\n",
      "Requirement already satisfied: pyasn1-modules>=0.2.1 in c:\\users\\equipo\\anaconda3\\lib\\site-packages (from google-auth<3.0.0dev,>=1.19.0->google-api-python-client>=1.7.8->witwidget) (0.2.8)\n",
      "Requirement already satisfied: rsa<5,>=3.1.4 in c:\\users\\equipo\\anaconda3\\lib\\site-packages (from google-auth<3.0.0dev,>=1.19.0->google-api-python-client>=1.7.8->witwidget) (4.7.2)\n",
      "Note: you may need to restart the kernel to use updated packages.Requirement already satisfied: pyparsing!=3.0.0,!=3.0.1,!=3.0.2,!=3.0.3,<4,>=2.4.2 in c:\\users\\equipo\\anaconda3\\lib\\site-packages (from httplib2<1dev,>=0.15.0->google-api-python-client>=1.7.8->witwidget) (3.0.4)\n",
      "Requirement already satisfied: traitlets>=4.3.1 in c:\\users\\equipo\\anaconda3\\lib\\site-packages (from ipywidgets>=7.0.0->witwidget) (5.1.1)\n",
      "Requirement already satisfied: widgetsnbextension~=3.5.0 in c:\\users\\equipo\\anaconda3\\lib\\site-packages (from ipywidgets>=7.0.0->witwidget) (3.5.2)\n",
      "Requirement already satisfied: ipython-genutils~=0.2.0 in c:\\users\\equipo\\anaconda3\\lib\\site-packages (from ipywidgets>=7.0.0->witwidget) (0.2.0)\n",
      "Requirement already satisfied: ipykernel>=4.5.1 in c:\\users\\equipo\\anaconda3\\lib\\site-packages (from ipywidgets>=7.0.0->witwidget) (6.6.0)\n",
      "Requirement already satisfied: nbformat>=4.2.0 in c:\\users\\equipo\\anaconda3\\lib\\site-packages (from ipywidgets>=7.0.0->witwidget) (5.3.0)\n",
      "Requirement already satisfied: ipython>=4.0.0 in c:\\users\\equipo\\anaconda3\\lib\\site-packages (from ipywidgets>=7.0.0->witwidget) (8.2.0)\n",
      "Requirement already satisfied: jupyterlab-widgets>=1.0.0 in c:\\users\\equipo\\anaconda3\\lib\\site-packages (from ipywidgets>=7.0.0->witwidget) (1.0.0)\n",
      "Requirement already satisfied: jupyter-client<8.0 in c:\\users\\equipo\\anaconda3\\lib\\site-packages (from ipykernel>=4.5.1->ipywidgets>=7.0.0->witwidget) (6.1.12)\n",
      "Requirement already satisfied: debugpy<2.0,>=1.0.0 in c:\\users\\equipo\\anaconda3\\lib\\site-packages (from ipykernel>=4.5.1->ipywidgets>=7.0.0->witwidget) (1.5.1)\n",
      "Requirement already satisfied: matplotlib-inline<0.2.0,>=0.1.0 in c:\\users\\equipo\\anaconda3\\lib\\site-packages (from ipykernel>=4.5.1->ipywidgets>=7.0.0->witwidget) (0.1.2)\n",
      "Requirement already satisfied: tornado<7.0,>=4.2 in c:\\users\\equipo\\anaconda3\\lib\\site-packages (from ipykernel>=4.5.1->ipywidgets>=7.0.0->witwidget) (6.1)\n",
      "Requirement already satisfied: backcall in c:\\users\\equipo\\anaconda3\\lib\\site-packages (from ipython>=4.0.0->ipywidgets>=7.0.0->witwidget) (0.2.0)\n",
      "Requirement already satisfied: prompt-toolkit!=3.0.0,!=3.0.1,<3.1.0,>=2.0.0 in c:\\users\\equipo\\anaconda3\\lib\\site-packages (from ipython>=4.0.0->ipywidgets>=7.0.0->witwidget) (3.0.20)\n",
      "Requirement already satisfied: pygments>=2.4.0 in c:\\users\\equipo\\anaconda3\\lib\\site-packages (from ipython>=4.0.0->ipywidgets>=7.0.0->witwidget) (2.11.2)\n",
      "Requirement already satisfied: colorama in c:\\users\\equipo\\anaconda3\\lib\\site-packages (from ipython>=4.0.0->ipywidgets>=7.0.0->witwidget) (0.4.4)\n",
      "Requirement already satisfied: decorator in c:\\users\\equipo\\anaconda3\\lib\\site-packages (from ipython>=4.0.0->ipywidgets>=7.0.0->witwidget) (5.1.1)\n",
      "Requirement already satisfied: stack-data in c:\\users\\equipo\\anaconda3\\lib\\site-packages (from ipython>=4.0.0->ipywidgets>=7.0.0->witwidget) (0.2.0)\n",
      "Requirement already satisfied: jedi>=0.16 in c:\\users\\equipo\\anaconda3\\lib\\site-packages (from ipython>=4.0.0->ipywidgets>=7.0.0->witwidget) (0.18.1)\n",
      "Requirement already satisfied: pickleshare in c:\\users\\equipo\\anaconda3\\lib\\site-packages (from ipython>=4.0.0->ipywidgets>=7.0.0->witwidget) (0.7.5)\n",
      "Requirement already satisfied: parso<0.9.0,>=0.8.0 in c:\\users\\equipo\\anaconda3\\lib\\site-packages (from jedi>=0.16->ipython>=4.0.0->ipywidgets>=7.0.0->witwidget) (0.8.3)\n",
      "\n",
      "Requirement already satisfied: pyzmq>=13 in c:\\users\\equipo\\anaconda3\\lib\\site-packages (from jupyter-client<8.0->ipykernel>=4.5.1->ipywidgets>=7.0.0->witwidget) (22.3.0)\n",
      "Requirement already satisfied: jupyter-core>=4.6.0 in c:\\users\\equipo\\anaconda3\\lib\\site-packages (from jupyter-client<8.0->ipykernel>=4.5.1->ipywidgets>=7.0.0->witwidget) (4.9.2)\n",
      "Requirement already satisfied: python-dateutil>=2.1 in c:\\users\\equipo\\anaconda3\\lib\\site-packages (from jupyter-client<8.0->ipykernel>=4.5.1->ipywidgets>=7.0.0->witwidget) (2.8.2)\n",
      "Requirement already satisfied: pywin32>=1.0 in c:\\users\\equipo\\anaconda3\\lib\\site-packages (from jupyter-core>=4.6.0->jupyter-client<8.0->ipykernel>=4.5.1->ipywidgets>=7.0.0->witwidget) (302)\n",
      "Requirement already satisfied: fastjsonschema in c:\\users\\equipo\\anaconda3\\lib\\site-packages (from nbformat>=4.2.0->ipywidgets>=7.0.0->witwidget) (2.15.1)\n",
      "Requirement already satisfied: jsonschema>=2.6 in c:\\users\\equipo\\anaconda3\\lib\\site-packages (from nbformat>=4.2.0->ipywidgets>=7.0.0->witwidget) (4.4.0)\n",
      "Requirement already satisfied: pyrsistent!=0.17.0,!=0.17.1,!=0.17.2,>=0.14.0 in c:\\users\\equipo\\anaconda3\\lib\\site-packages (from jsonschema>=2.6->nbformat>=4.2.0->ipywidgets>=7.0.0->witwidget) (0.18.0)\n",
      "Requirement already satisfied: attrs>=17.4.0 in c:\\users\\equipo\\anaconda3\\lib\\site-packages (from jsonschema>=2.6->nbformat>=4.2.0->ipywidgets>=7.0.0->witwidget) (21.4.0)\n",
      "Requirement already satisfied: pyasn1>=0.1.7 in c:\\users\\equipo\\anaconda3\\lib\\site-packages (from oauth2client>=4.1.3->witwidget) (0.4.8)\n",
      "Requirement already satisfied: wcwidth in c:\\users\\equipo\\anaconda3\\lib\\site-packages (from prompt-toolkit!=3.0.0,!=3.0.1,<3.1.0,>=2.0.0->ipython>=4.0.0->ipywidgets>=7.0.0->witwidget) (0.2.5)\n",
      "Requirement already satisfied: urllib3<1.27,>=1.21.1 in c:\\users\\equipo\\anaconda3\\lib\\site-packages (from requests<3.0.0dev,>=2.18.0->google-api-core!=2.0.*,!=2.1.*,!=2.2.*,!=2.3.0,<3.0.0dev,>=1.31.5->google-api-python-client>=1.7.8->witwidget) (1.26.9)\n",
      "Requirement already satisfied: charset-normalizer~=2.0.0 in c:\\users\\equipo\\anaconda3\\lib\\site-packages (from requests<3.0.0dev,>=2.18.0->google-api-core!=2.0.*,!=2.1.*,!=2.2.*,!=2.3.0,<3.0.0dev,>=1.31.5->google-api-python-client>=1.7.8->witwidget) (2.0.4)\n",
      "Requirement already satisfied: certifi>=2017.4.17 in c:\\users\\equipo\\anaconda3\\lib\\site-packages (from requests<3.0.0dev,>=2.18.0->google-api-core!=2.0.*,!=2.1.*,!=2.2.*,!=2.3.0,<3.0.0dev,>=1.31.5->google-api-python-client>=1.7.8->witwidget) (2022.6.15)\n",
      "Requirement already satisfied: idna<4,>=2.5 in c:\\users\\equipo\\anaconda3\\lib\\site-packages (from requests<3.0.0dev,>=2.18.0->google-api-core!=2.0.*,!=2.1.*,!=2.2.*,!=2.3.0,<3.0.0dev,>=1.31.5->google-api-python-client>=1.7.8->witwidget) (3.3)\n",
      "Requirement already satisfied: grpcio<2.0,>=1.24.3 in c:\\users\\equipo\\anaconda3\\lib\\site-packages (from tensorflow>=1.12.1->witwidget) (1.42.0)\n",
      "Requirement already satisfied: astunparse>=1.6.0 in c:\\users\\equipo\\anaconda3\\lib\\site-packages (from tensorflow>=1.12.1->witwidget) (1.6.3)\n",
      "Requirement already satisfied: h5py>=2.9.0 in c:\\users\\equipo\\anaconda3\\lib\\site-packages (from tensorflow>=1.12.1->witwidget) (3.6.0)\n",
      "Requirement already satisfied: packaging in c:\\users\\equipo\\anaconda3\\lib\\site-packages (from tensorflow>=1.12.1->witwidget) (21.3)\n",
      "Requirement already satisfied: keras-preprocessing>=1.1.1 in c:\\users\\equipo\\anaconda3\\lib\\site-packages (from tensorflow>=1.12.1->witwidget) (1.1.2)\n",
      "Requirement already satisfied: tensorflow-io-gcs-filesystem>=0.23.1 in c:\\users\\equipo\\anaconda3\\lib\\site-packages (from tensorflow>=1.12.1->witwidget) (0.26.0)\n",
      "Requirement already satisfied: google-pasta>=0.1.1 in c:\\users\\equipo\\anaconda3\\lib\\site-packages (from tensorflow>=1.12.1->witwidget) (0.2.0)\n",
      "Requirement already satisfied: tensorboard<2.10,>=2.9 in c:\\users\\equipo\\anaconda3\\lib\\site-packages (from tensorflow>=1.12.1->witwidget) (2.9.1)\n",
      "Requirement already satisfied: wrapt>=1.11.0 in c:\\users\\equipo\\anaconda3\\lib\\site-packages (from tensorflow>=1.12.1->witwidget) (1.12.1)\n",
      "Requirement already satisfied: libclang>=13.0.0 in c:\\users\\equipo\\anaconda3\\lib\\site-packages (from tensorflow>=1.12.1->witwidget) (14.0.1)\n",
      "Requirement already satisfied: keras<2.10.0,>=2.9.0rc0 in c:\\users\\equipo\\anaconda3\\lib\\site-packages (from tensorflow>=1.12.1->witwidget) (2.9.0)\n",
      "Requirement already satisfied: typing-extensions>=3.6.6 in c:\\users\\equipo\\anaconda3\\lib\\site-packages (from tensorflow>=1.12.1->witwidget) (4.1.1)\n",
      "Requirement already satisfied: tensorflow-estimator<2.10.0,>=2.9.0rc0 in c:\\users\\equipo\\anaconda3\\lib\\site-packages (from tensorflow>=1.12.1->witwidget) (2.9.0)\n",
      "Requirement already satisfied: gast<=0.4.0,>=0.2.1 in c:\\users\\equipo\\anaconda3\\lib\\site-packages (from tensorflow>=1.12.1->witwidget) (0.4.0)\n",
      "Requirement already satisfied: numpy>=1.20 in c:\\users\\equipo\\anaconda3\\lib\\site-packages (from tensorflow>=1.12.1->witwidget) (1.21.5)\n",
      "Requirement already satisfied: flatbuffers<2,>=1.12 in c:\\users\\equipo\\anaconda3\\lib\\site-packages (from tensorflow>=1.12.1->witwidget) (1.12)\n",
      "Requirement already satisfied: termcolor>=1.1.0 in c:\\users\\equipo\\anaconda3\\lib\\site-packages (from tensorflow>=1.12.1->witwidget) (1.1.0)\n",
      "Requirement already satisfied: opt-einsum>=2.3.2 in c:\\users\\equipo\\anaconda3\\lib\\site-packages (from tensorflow>=1.12.1->witwidget) (3.3.0)\n",
      "Requirement already satisfied: wheel<1.0,>=0.23.0 in c:\\users\\equipo\\anaconda3\\lib\\site-packages (from astunparse>=1.6.0->tensorflow>=1.12.1->witwidget) (0.37.1)\n",
      "Requirement already satisfied: tensorboard-data-server<0.7.0,>=0.6.0 in c:\\users\\equipo\\anaconda3\\lib\\site-packages (from tensorboard<2.10,>=2.9->tensorflow>=1.12.1->witwidget) (0.6.1)\n",
      "Requirement already satisfied: google-auth-oauthlib<0.5,>=0.4.1 in c:\\users\\equipo\\anaconda3\\lib\\site-packages (from tensorboard<2.10,>=2.9->tensorflow>=1.12.1->witwidget) (0.4.6)\n",
      "Requirement already satisfied: markdown>=2.6.8 in c:\\users\\equipo\\anaconda3\\lib\\site-packages (from tensorboard<2.10,>=2.9->tensorflow>=1.12.1->witwidget) (3.3.4)\n",
      "Requirement already satisfied: tensorboard-plugin-wit>=1.6.0 in c:\\users\\equipo\\anaconda3\\lib\\site-packages (from tensorboard<2.10,>=2.9->tensorflow>=1.12.1->witwidget) (1.8.1)\n",
      "Requirement already satisfied: werkzeug>=1.0.1 in c:\\users\\equipo\\anaconda3\\lib\\site-packages (from tensorboard<2.10,>=2.9->tensorflow>=1.12.1->witwidget) (2.0.3)\n",
      "Requirement already satisfied: requests-oauthlib>=0.7.0 in c:\\users\\equipo\\anaconda3\\lib\\site-packages (from google-auth-oauthlib<0.5,>=0.4.1->tensorboard<2.10,>=2.9->tensorflow>=1.12.1->witwidget) (1.3.1)\n",
      "Requirement already satisfied: oauthlib>=3.0.0 in c:\\users\\equipo\\anaconda3\\lib\\site-packages (from requests-oauthlib>=0.7.0->google-auth-oauthlib<0.5,>=0.4.1->tensorboard<2.10,>=2.9->tensorflow>=1.12.1->witwidget) (3.2.0)\n",
      "Requirement already satisfied: notebook>=4.4.1 in c:\\users\\equipo\\anaconda3\\lib\\site-packages (from widgetsnbextension~=3.5.0->ipywidgets>=7.0.0->witwidget) (6.4.8)\n",
      "Requirement already satisfied: prometheus-client in c:\\users\\equipo\\anaconda3\\lib\\site-packages (from notebook>=4.4.1->widgetsnbextension~=3.5.0->ipywidgets>=7.0.0->witwidget) (0.13.1)\n",
      "Requirement already satisfied: nbconvert in c:\\users\\equipo\\anaconda3\\lib\\site-packages (from notebook>=4.4.1->widgetsnbextension~=3.5.0->ipywidgets>=7.0.0->witwidget) (6.4.4)\n",
      "Requirement already satisfied: jinja2 in c:\\users\\equipo\\anaconda3\\lib\\site-packages (from notebook>=4.4.1->widgetsnbextension~=3.5.0->ipywidgets>=7.0.0->witwidget) (2.11.3)\n",
      "Requirement already satisfied: Send2Trash>=1.8.0 in c:\\users\\equipo\\anaconda3\\lib\\site-packages (from notebook>=4.4.1->widgetsnbextension~=3.5.0->ipywidgets>=7.0.0->witwidget) (1.8.0)\n",
      "Requirement already satisfied: terminado>=0.8.3 in c:\\users\\equipo\\anaconda3\\lib\\site-packages (from notebook>=4.4.1->widgetsnbextension~=3.5.0->ipywidgets>=7.0.0->witwidget) (0.13.1)\n",
      "Requirement already satisfied: nest-asyncio>=1.5 in c:\\users\\equipo\\anaconda3\\lib\\site-packages (from notebook>=4.4.1->widgetsnbextension~=3.5.0->ipywidgets>=7.0.0->witwidget) (1.5.5)\n",
      "Requirement already satisfied: argon2-cffi in c:\\users\\equipo\\anaconda3\\lib\\site-packages (from notebook>=4.4.1->widgetsnbextension~=3.5.0->ipywidgets>=7.0.0->witwidget) (21.3.0)\n",
      "Requirement already satisfied: pywinpty>=1.1.0 in c:\\users\\equipo\\anaconda3\\lib\\site-packages (from terminado>=0.8.3->notebook>=4.4.1->widgetsnbextension~=3.5.0->ipywidgets>=7.0.0->witwidget) (2.0.2)\n",
      "Requirement already satisfied: argon2-cffi-bindings in c:\\users\\equipo\\anaconda3\\lib\\site-packages (from argon2-cffi->notebook>=4.4.1->widgetsnbextension~=3.5.0->ipywidgets>=7.0.0->witwidget) (21.2.0)\n",
      "Requirement already satisfied: cffi>=1.0.1 in c:\\users\\equipo\\anaconda3\\lib\\site-packages (from argon2-cffi-bindings->argon2-cffi->notebook>=4.4.1->widgetsnbextension~=3.5.0->ipywidgets>=7.0.0->witwidget) (1.15.0)\n",
      "Requirement already satisfied: pycparser in c:\\users\\equipo\\anaconda3\\lib\\site-packages (from cffi>=1.0.1->argon2-cffi-bindings->argon2-cffi->notebook>=4.4.1->widgetsnbextension~=3.5.0->ipywidgets>=7.0.0->witwidget) (2.21)\n",
      "Requirement already satisfied: MarkupSafe>=0.23 in c:\\users\\equipo\\anaconda3\\lib\\site-packages (from jinja2->notebook>=4.4.1->widgetsnbextension~=3.5.0->ipywidgets>=7.0.0->witwidget) (2.1.1)\n",
      "Requirement already satisfied: jupyterlab-pygments in c:\\users\\equipo\\anaconda3\\lib\\site-packages (from nbconvert->notebook>=4.4.1->widgetsnbextension~=3.5.0->ipywidgets>=7.0.0->witwidget) (0.1.2)\n",
      "Requirement already satisfied: testpath in c:\\users\\equipo\\anaconda3\\lib\\site-packages (from nbconvert->notebook>=4.4.1->widgetsnbextension~=3.5.0->ipywidgets>=7.0.0->witwidget) (0.5.0)\n",
      "Requirement already satisfied: beautifulsoup4 in c:\\users\\equipo\\anaconda3\\lib\\site-packages (from nbconvert->notebook>=4.4.1->widgetsnbextension~=3.5.0->ipywidgets>=7.0.0->witwidget) (4.11.1)\n",
      "Requirement already satisfied: pandocfilters>=1.4.1 in c:\\users\\equipo\\anaconda3\\lib\\site-packages (from nbconvert->notebook>=4.4.1->widgetsnbextension~=3.5.0->ipywidgets>=7.0.0->witwidget) (1.5.0)\n",
      "Requirement already satisfied: mistune<2,>=0.8.1 in c:\\users\\equipo\\anaconda3\\lib\\site-packages (from nbconvert->notebook>=4.4.1->widgetsnbextension~=3.5.0->ipywidgets>=7.0.0->witwidget) (0.8.4)\n",
      "Requirement already satisfied: nbclient<0.6.0,>=0.5.0 in c:\\users\\equipo\\anaconda3\\lib\\site-packages (from nbconvert->notebook>=4.4.1->widgetsnbextension~=3.5.0->ipywidgets>=7.0.0->witwidget) (0.5.13)\n",
      "Requirement already satisfied: entrypoints>=0.2.2 in c:\\users\\equipo\\anaconda3\\lib\\site-packages (from nbconvert->notebook>=4.4.1->widgetsnbextension~=3.5.0->ipywidgets>=7.0.0->witwidget) (0.4)\n",
      "Requirement already satisfied: bleach in c:\\users\\equipo\\anaconda3\\lib\\site-packages (from nbconvert->notebook>=4.4.1->widgetsnbextension~=3.5.0->ipywidgets>=7.0.0->witwidget) (4.1.0)\n",
      "Requirement already satisfied: defusedxml in c:\\users\\equipo\\anaconda3\\lib\\site-packages (from nbconvert->notebook>=4.4.1->widgetsnbextension~=3.5.0->ipywidgets>=7.0.0->witwidget) (0.7.1)\n",
      "Requirement already satisfied: soupsieve>1.2 in c:\\users\\equipo\\anaconda3\\lib\\site-packages (from beautifulsoup4->nbconvert->notebook>=4.4.1->widgetsnbextension~=3.5.0->ipywidgets>=7.0.0->witwidget) (2.3.1)\n",
      "Requirement already satisfied: webencodings in c:\\users\\equipo\\anaconda3\\lib\\site-packages (from bleach->nbconvert->notebook>=4.4.1->widgetsnbextension~=3.5.0->ipywidgets>=7.0.0->witwidget) (0.5.1)\n",
      "Requirement already satisfied: asttokens in c:\\users\\equipo\\anaconda3\\lib\\site-packages (from stack-data->ipython>=4.0.0->ipywidgets>=7.0.0->witwidget) (2.0.5)\n",
      "Requirement already satisfied: executing in c:\\users\\equipo\\anaconda3\\lib\\site-packages (from stack-data->ipython>=4.0.0->ipywidgets>=7.0.0->witwidget) (0.8.3)\n",
      "Requirement already satisfied: pure-eval in c:\\users\\equipo\\anaconda3\\lib\\site-packages (from stack-data->ipython>=4.0.0->ipywidgets>=7.0.0->witwidget) (0.2.2)\n"
     ]
    }
   ],
   "source": [
    "pip install witwidget"
   ]
  },
  {
   "cell_type": "code",
   "execution_count": 5,
   "id": "892386b8",
   "metadata": {},
   "outputs": [
    {
     "name": "stderr",
     "output_type": "stream",
     "text": [
      "2022-07-21 14:09:40.179971: W tensorflow/stream_executor/platform/default/dso_loader.cc:64] Could not load dynamic library 'cudart64_110.dll'; dlerror: cudart64_110.dll not found\n",
      "2022-07-21 14:09:40.180035: I tensorflow/stream_executor/cuda/cudart_stub.cc:29] Ignore above cudart dlerror if you do not have a GPU set up on your machine.\n",
      "Installing C:\\Users\\Equipo\\anaconda3\\lib\\site-packages\\witwidget\\static -> wit-widget\n",
      "- Validating: ok\n",
      "\n",
      "    To initialize this nbextension in the browser every time the notebook (or other app) loads:\n",
      "    \n",
      "          jupyter nbextension enable witwidget --py --sys-prefix\n",
      "    \n"
     ]
    }
   ],
   "source": [
    "!jupyter nbextension install --py --symlink --sys-prefix witwidget"
   ]
  },
  {
   "cell_type": "code",
   "execution_count": 6,
   "id": "f3adbbc5",
   "metadata": {},
   "outputs": [
    {
     "name": "stderr",
     "output_type": "stream",
     "text": [
      "2022-07-21 14:09:45.620530: W tensorflow/stream_executor/platform/default/dso_loader.cc:64] Could not load dynamic library 'cudart64_110.dll'; dlerror: cudart64_110.dll not found\n",
      "2022-07-21 14:09:45.620571: I tensorflow/stream_executor/cuda/cudart_stub.cc:29] Ignore above cudart dlerror if you do not have a GPU set up on your machine.\n",
      "Enabling notebook extension wit-widget/extension...\n",
      "      - Validating: ok\n"
     ]
    }
   ],
   "source": [
    "!jupyter nbextension enable --py --sys-prefix witwidget"
   ]
  },
  {
   "cell_type": "code",
   "execution_count": 7,
   "id": "85beaf5e",
   "metadata": {},
   "outputs": [],
   "source": [
    "import pandas as pd\n",
    "import numpy as np\n",
    "import witwidget\n",
    "\n",
    "from witwidget.notebook.visualization import WitWidget, WitConfigBuilder"
   ]
  },
  {
   "cell_type": "code",
   "execution_count": 8,
   "id": "81e05364",
   "metadata": {},
   "outputs": [
    {
     "data": {
      "text/html": [
       "<div>\n",
       "<style scoped>\n",
       "    .dataframe tbody tr th:only-of-type {\n",
       "        vertical-align: middle;\n",
       "    }\n",
       "\n",
       "    .dataframe tbody tr th {\n",
       "        vertical-align: top;\n",
       "    }\n",
       "\n",
       "    .dataframe thead th {\n",
       "        text-align: right;\n",
       "    }\n",
       "</style>\n",
       "<table border=\"1\" class=\"dataframe\">\n",
       "  <thead>\n",
       "    <tr style=\"text-align: right;\">\n",
       "      <th></th>\n",
       "      <th>Num_Children</th>\n",
       "      <th>Group</th>\n",
       "      <th>Income</th>\n",
       "      <th>Own_Car</th>\n",
       "      <th>Own_Housing</th>\n",
       "      <th>Target</th>\n",
       "    </tr>\n",
       "  </thead>\n",
       "  <tbody>\n",
       "    <tr>\n",
       "      <th>0</th>\n",
       "      <td>4</td>\n",
       "      <td>0</td>\n",
       "      <td>36151</td>\n",
       "      <td>0</td>\n",
       "      <td>0</td>\n",
       "      <td>0</td>\n",
       "    </tr>\n",
       "    <tr>\n",
       "      <th>1</th>\n",
       "      <td>0</td>\n",
       "      <td>0</td>\n",
       "      <td>36095</td>\n",
       "      <td>1</td>\n",
       "      <td>0</td>\n",
       "      <td>0</td>\n",
       "    </tr>\n",
       "    <tr>\n",
       "      <th>2</th>\n",
       "      <td>2</td>\n",
       "      <td>1</td>\n",
       "      <td>62110</td>\n",
       "      <td>1</td>\n",
       "      <td>1</td>\n",
       "      <td>0</td>\n",
       "    </tr>\n",
       "    <tr>\n",
       "      <th>3</th>\n",
       "      <td>0</td>\n",
       "      <td>1</td>\n",
       "      <td>73644</td>\n",
       "      <td>1</td>\n",
       "      <td>0</td>\n",
       "      <td>0</td>\n",
       "    </tr>\n",
       "    <tr>\n",
       "      <th>4</th>\n",
       "      <td>3</td>\n",
       "      <td>0</td>\n",
       "      <td>99146</td>\n",
       "      <td>0</td>\n",
       "      <td>0</td>\n",
       "      <td>1</td>\n",
       "    </tr>\n",
       "    <tr>\n",
       "      <th>...</th>\n",
       "      <td>...</td>\n",
       "      <td>...</td>\n",
       "      <td>...</td>\n",
       "      <td>...</td>\n",
       "      <td>...</td>\n",
       "      <td>...</td>\n",
       "    </tr>\n",
       "    <tr>\n",
       "      <th>499995</th>\n",
       "      <td>1</td>\n",
       "      <td>0</td>\n",
       "      <td>43299</td>\n",
       "      <td>1</td>\n",
       "      <td>1</td>\n",
       "      <td>0</td>\n",
       "    </tr>\n",
       "    <tr>\n",
       "      <th>499996</th>\n",
       "      <td>8</td>\n",
       "      <td>1</td>\n",
       "      <td>75956</td>\n",
       "      <td>1</td>\n",
       "      <td>1</td>\n",
       "      <td>1</td>\n",
       "    </tr>\n",
       "    <tr>\n",
       "      <th>499997</th>\n",
       "      <td>3</td>\n",
       "      <td>0</td>\n",
       "      <td>66476</td>\n",
       "      <td>0</td>\n",
       "      <td>0</td>\n",
       "      <td>0</td>\n",
       "    </tr>\n",
       "    <tr>\n",
       "      <th>499998</th>\n",
       "      <td>2</td>\n",
       "      <td>1</td>\n",
       "      <td>74524</td>\n",
       "      <td>0</td>\n",
       "      <td>0</td>\n",
       "      <td>0</td>\n",
       "    </tr>\n",
       "    <tr>\n",
       "      <th>499999</th>\n",
       "      <td>4</td>\n",
       "      <td>0</td>\n",
       "      <td>31129</td>\n",
       "      <td>1</td>\n",
       "      <td>0</td>\n",
       "      <td>0</td>\n",
       "    </tr>\n",
       "  </tbody>\n",
       "</table>\n",
       "<p>500000 rows × 6 columns</p>\n",
       "</div>"
      ],
      "text/plain": [
       "        Num_Children  Group  Income  Own_Car  Own_Housing  Target\n",
       "0                  4      0   36151        0            0       0\n",
       "1                  0      0   36095        1            0       0\n",
       "2                  2      1   62110        1            1       0\n",
       "3                  0      1   73644        1            0       0\n",
       "4                  3      0   99146        0            0       1\n",
       "...              ...    ...     ...      ...          ...     ...\n",
       "499995             1      0   43299        1            1       0\n",
       "499996             8      1   75956        1            1       1\n",
       "499997             3      0   66476        0            0       0\n",
       "499998             2      1   74524        0            0       0\n",
       "499999             4      0   31129        1            0       0\n",
       "\n",
       "[500000 rows x 6 columns]"
      ]
     },
     "execution_count": 8,
     "metadata": {},
     "output_type": "execute_result"
    }
   ],
   "source": [
    "import dalex as dx\n",
    "import pandas as pd\n",
    "data = pd.read_csv ('synthetic_credit_card_approval.csv')\n",
    "data"
   ]
  },
  {
   "cell_type": "code",
   "execution_count": 9,
   "id": "69f3fe76",
   "metadata": {},
   "outputs": [
    {
     "name": "stdout",
     "output_type": "stream",
     "text": [
      "Data sucessfully loaded!\n"
     ]
    }
   ],
   "source": [
    "import pandas as pd\n",
    "import numpy as np\n",
    "from sklearn.model_selection import train_test_split\n",
    "X = data.drop([\"Target\"],axis=1) # axis: {0 or ‘index’, 1 or ‘columns’}, default 0\n",
    "y = data[\"Target\"]\n",
    "\n",
    "X_train, X_test, y_train, y_test = train_test_split(X,y,train_size=0.8, test_size=0.2, random_state=0)\n",
    "print(\"Data sucessfully loaded!\")"
   ]
  },
  {
   "cell_type": "code",
   "execution_count": 10,
   "id": "7e28fc93",
   "metadata": {},
   "outputs": [],
   "source": [
    "X_test = X_test.to_numpy()"
   ]
  },
  {
   "cell_type": "code",
   "execution_count": 11,
   "id": "09c4c2b2",
   "metadata": {},
   "outputs": [],
   "source": [
    "y_test = y_test.to_numpy()"
   ]
  },
  {
   "cell_type": "code",
   "execution_count": 12,
   "id": "baa6414f",
   "metadata": {},
   "outputs": [
    {
     "data": {
      "text/plain": [
       "array([[    1,     1, 92093,     1,     1],\n",
       "       [    2,     0, 81071,     1,     0],\n",
       "       [    4,     0, 83536,     0,     0],\n",
       "       ...,\n",
       "       [    2,     0, 67481,     1,     0],\n",
       "       [    4,     1, 68047,     1,     0],\n",
       "       [    1,     1, 83803,     1,     1]], dtype=int64)"
      ]
     },
     "execution_count": 12,
     "metadata": {},
     "output_type": "execute_result"
    }
   ],
   "source": [
    "X_test"
   ]
  },
  {
   "cell_type": "code",
   "execution_count": 13,
   "id": "4715c195",
   "metadata": {},
   "outputs": [],
   "source": [
    "# Combine the features and labels into one array for the What if Tool\n",
    "test_examples = np.hstack((X_test,y_test.reshape(-1,1)))"
   ]
  },
  {
   "cell_type": "code",
   "execution_count": 14,
   "id": "c87ad43a",
   "metadata": {},
   "outputs": [
    {
     "data": {
      "text/plain": [
       "array([1, 0, 0, ..., 0, 0, 1])"
      ]
     },
     "execution_count": 14,
     "metadata": {},
     "output_type": "execute_result"
    }
   ],
   "source": [
    "import xgboost\n",
    "model = xgboost.XGBClassifier().fit(X_train, y_train)\n",
    "y_test_predict = model.predict(X_test)\n",
    "y_test_predict"
   ]
  },
  {
   "cell_type": "code",
   "execution_count": 15,
   "id": "a6ea4434",
   "metadata": {},
   "outputs": [
    {
     "data": {
      "text/html": [
       "<style>.container { width:100% !important; }</style>"
      ],
      "text/plain": [
       "<IPython.core.display.HTML object>"
      ]
     },
     "metadata": {},
     "output_type": "display_data"
    },
    {
     "data": {
      "application/vnd.jupyter.widget-view+json": {
       "model_id": "549f33ad75724a0c8780ad3cd6225aa0",
       "version_major": 2,
       "version_minor": 0
      },
      "text/plain": [
       "WitWidget(config={'model_type': 'classification', 'label_vocab': [0, 1], 'feature_names': ['Num_Children', 'Gr…"
      ]
     },
     "metadata": {},
     "output_type": "display_data"
    }
   ],
   "source": [
    "# Create a What-if Tool visualization, it may take a minute to load\n",
    "# See the cell below this for exploration ideas\n",
    "\n",
    "# This prediction adjustment function is needed as this xgboost model's\n",
    "# prediction returns just a score for the positive class of the binary\n",
    "# classification, whereas the What-If Tool expects a list of scores for each\n",
    "# class (in this case, both the negative class and the positive class).\n",
    "\n",
    "def adjust_prediction(y_test_predict):\n",
    "  return [1 - y_test_predict, y_test_predict]\n",
    "\n",
    "config_builder = (WitConfigBuilder(test_examples.tolist(), data.columns.tolist() + ['Target'])\n",
    "  .set_ai_platform_model('fairdetect', 'testset1', 'v1', adjust_prediction=adjust_prediction)\n",
    "  .set_target_feature('Target')\n",
    "  .set_label_vocab([0, 1]))\n",
    "WitWidget(config_builder, height=1000)"
   ]
  },
  {
   "cell_type": "code",
   "execution_count": 16,
   "id": "bcb13ab3",
   "metadata": {},
   "outputs": [
    {
     "data": {
      "text/plain": [
       "<witwidget.notebook.visualization.WitConfigBuilder at 0x1ed15a35b80>"
      ]
     },
     "execution_count": 16,
     "metadata": {},
     "output_type": "execute_result"
    }
   ],
   "source": [
    "config_builder"
   ]
  },
  {
   "cell_type": "code",
   "execution_count": null,
   "id": "43557082",
   "metadata": {},
   "outputs": [],
   "source": []
  }
 ],
 "metadata": {
  "kernelspec": {
   "display_name": "Python 3 (ipykernel)",
   "language": "python",
   "name": "python3"
  },
  "language_info": {
   "codemirror_mode": {
    "name": "ipython",
    "version": 3
   },
   "file_extension": ".py",
   "mimetype": "text/x-python",
   "name": "python",
   "nbconvert_exporter": "python",
   "pygments_lexer": "ipython3",
   "version": "3.9.12"
  }
 },
 "nbformat": 4,
 "nbformat_minor": 5
}
