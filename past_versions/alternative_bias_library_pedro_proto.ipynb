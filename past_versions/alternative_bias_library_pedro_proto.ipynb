{
 "cells": [
  {
   "cell_type": "code",
   "execution_count": 38,
   "id": "48af83f1",
   "metadata": {},
   "outputs": [
    {
     "name": "stdout",
     "output_type": "stream",
     "text": [
      "Collecting https://github.com/adebayoj/fairml/archive/master.zip\n",
      "  Using cached https://github.com/adebayoj/fairml/archive/master.zip\n",
      "  Preparing metadata (setup.py): started\n",
      "  Preparing metadata (setup.py): finished with status 'done'\n",
      "Requirement already satisfied: numpy in c:\\users\\equipo\\anaconda3\\lib\\site-packages (from fairml==0.1.1.5) (1.21.5)\n",
      "Requirement already satisfied: scipy in c:\\users\\equipo\\anaconda3\\lib\\site-packages (from fairml==0.1.1.5) (1.7.3)\n",
      "Requirement already satisfied: scikit-learn>=0.18 in c:\\users\\equipo\\anaconda3\\lib\\site-packages (from fairml==0.1.1.5) (1.0.2)\n",
      "Requirement already satisfied: matplotlib>=1.5.3 in c:\\users\\equipo\\anaconda3\\lib\\site-packages (from fairml==0.1.1.5) (3.5.1)\n",
      "Requirement already satisfied: seaborn>=0.7.1 in c:\\users\\equipo\\anaconda3\\lib\\site-packages (from fairml==0.1.1.5) (0.11.2)\n",
      "Requirement already satisfied: pandas>=0.19.0 in c:\\users\\equipo\\anaconda3\\lib\\site-packages (from fairml==0.1.1.5) (1.4.2)\n",
      "Requirement already satisfied: fonttools>=4.22.0 in c:\\users\\equipo\\anaconda3\\lib\\site-packages (from matplotlib>=1.5.3->fairml==0.1.1.5) (4.25.0)\n",
      "Requirement already satisfied: kiwisolver>=1.0.1 in c:\\users\\equipo\\anaconda3\\lib\\site-packages (from matplotlib>=1.5.3->fairml==0.1.1.5) (1.3.2)\n",
      "Requirement already satisfied: pyparsing>=2.2.1 in c:\\users\\equipo\\anaconda3\\lib\\site-packages (from matplotlib>=1.5.3->fairml==0.1.1.5) (3.0.4)\n",
      "Requirement already satisfied: python-dateutil>=2.7 in c:\\users\\equipo\\anaconda3\\lib\\site-packages (from matplotlib>=1.5.3->fairml==0.1.1.5) (2.8.2)\n",
      "Requirement already satisfied: cycler>=0.10 in c:\\users\\equipo\\anaconda3\\lib\\site-packages (from matplotlib>=1.5.3->fairml==0.1.1.5) (0.11.0)\n",
      "Requirement already satisfied: packaging>=20.0 in c:\\users\\equipo\\anaconda3\\lib\\site-packages (from matplotlib>=1.5.3->fairml==0.1.1.5) (21.3)\n",
      "Requirement already satisfied: pillow>=6.2.0 in c:\\users\\equipo\\anaconda3\\lib\\site-packages (from matplotlib>=1.5.3->fairml==0.1.1.5) (9.0.1)\n",
      "Requirement already satisfied: pytz>=2020.1 in c:\\users\\equipo\\anaconda3\\lib\\site-packages (from pandas>=0.19.0->fairml==0.1.1.5) (2021.3)\n",
      "Requirement already satisfied: threadpoolctl>=2.0.0 in c:\\users\\equipo\\anaconda3\\lib\\site-packages (from scikit-learn>=0.18->fairml==0.1.1.5) (2.2.0)\n",
      "Requirement already satisfied: joblib>=0.11 in c:\\users\\equipo\\anaconda3\\lib\\site-packages (from scikit-learn>=0.18->fairml==0.1.1.5) (1.1.0)\n",
      "Requirement already satisfied: six>=1.5 in c:\\users\\equipo\\anaconda3\\lib\\site-packages (from python-dateutil>=2.7->matplotlib>=1.5.3->fairml==0.1.1.5) (1.16.0)\n",
      "Requirement already satisfied: fairml in c:\\users\\equipo\\anaconda3\\lib\\site-packages (0.1.1.5)\n",
      "Requirement already satisfied: seaborn>=0.7.1 in c:\\users\\equipo\\anaconda3\\lib\\site-packages (from fairml) (0.11.2)\n",
      "Requirement already satisfied: numpy in c:\\users\\equipo\\anaconda3\\lib\\site-packages (from fairml) (1.21.5)\n",
      "Requirement already satisfied: scikit-learn>=0.18 in c:\\users\\equipo\\anaconda3\\lib\\site-packages (from fairml) (1.0.2)\n",
      "Requirement already satisfied: pandas>=0.19.0 in c:\\users\\equipo\\anaconda3\\lib\\site-packages (from fairml) (1.4.2)\n",
      "Requirement already satisfied: scipy in c:\\users\\equipo\\anaconda3\\lib\\site-packages (from fairml) (1.7.3)\n",
      "Requirement already satisfied: matplotlib>=1.5.3 in c:\\users\\equipo\\anaconda3\\lib\\site-packages (from fairml) (3.5.1)\n",
      "Requirement already satisfied: python-dateutil>=2.7 in c:\\users\\equipo\\anaconda3\\lib\\site-packages (from matplotlib>=1.5.3->fairml) (2.8.2)\n",
      "Requirement already satisfied: cycler>=0.10 in c:\\users\\equipo\\anaconda3\\lib\\site-packages (from matplotlib>=1.5.3->fairml) (0.11.0)\n",
      "Requirement already satisfied: fonttools>=4.22.0 in c:\\users\\equipo\\anaconda3\\lib\\site-packages (from matplotlib>=1.5.3->fairml) (4.25.0)\n",
      "Requirement already satisfied: pillow>=6.2.0 in c:\\users\\equipo\\anaconda3\\lib\\site-packages (from matplotlib>=1.5.3->fairml) (9.0.1)\n",
      "Requirement already satisfied: kiwisolver>=1.0.1 in c:\\users\\equipo\\anaconda3\\lib\\site-packages (from matplotlib>=1.5.3->fairml) (1.3.2)\n",
      "Requirement already satisfied: packaging>=20.0 in c:\\users\\equipo\\anaconda3\\lib\\site-packages (from matplotlib>=1.5.3->fairml) (21.3)\n",
      "Requirement already satisfied: pyparsing>=2.2.1 in c:\\users\\equipo\\anaconda3\\lib\\site-packages (from matplotlib>=1.5.3->fairml) (3.0.4)\n",
      "Requirement already satisfied: pytz>=2020.1 in c:\\users\\equipo\\anaconda3\\lib\\site-packages (from pandas>=0.19.0->fairml) (2021.3)\n",
      "Requirement already satisfied: joblib>=0.11 in c:\\users\\equipo\\anaconda3\\lib\\site-packages (from scikit-learn>=0.18->fairml) (1.1.0)\n",
      "Requirement already satisfied: threadpoolctl>=2.0.0 in c:\\users\\equipo\\anaconda3\\lib\\site-packages (from scikit-learn>=0.18->fairml) (2.2.0)\n",
      "Requirement already satisfied: six>=1.5 in c:\\users\\equipo\\anaconda3\\lib\\site-packages (from python-dateutil>=2.7->matplotlib>=1.5.3->fairml) (1.16.0)\n"
     ]
    }
   ],
   "source": [
    "!pip install https://github.com/adebayoj/fairml/archive/master.zip\n",
    "!pip install fairml --user"
   ]
  },
  {
   "cell_type": "markdown",
   "id": "75cc3709",
   "metadata": {},
   "source": [
    "First we import modules for model building and data\n",
    "processing."
   ]
  },
  {
   "cell_type": "code",
   "execution_count": 2,
   "id": "83012f23",
   "metadata": {},
   "outputs": [],
   "source": [
    "import pandas as pd\n",
    "import numpy as np\n",
    "from sklearn.linear_model import LogisticRegression"
   ]
  },
  {
   "cell_type": "markdown",
   "id": "f772f71c",
   "metadata": {},
   "source": [
    "Now, we import the two key methods from fairml.\n",
    "audit_model takes:\n",
    "\n",
    "- (required) black-box function, which is the model to be audited\n",
    "- (required) sample_data to be perturbed for querying the function. This has to be a pandas dataframe with no missing data.\n",
    "\n",
    "- other optional parameters that control the mechanics of the auditing process, for example:\n",
    "  - number_of_runs : number of iterations to perform\n",
    "  - interactions : flag to enable checking model dependence on interactions.\n",
    "\n",
    "audit_model returns an overloaded dictionary where keys are the column names of input pandas dataframe and values are lists containing model  dependence on that particular feature. These lists of size number_of_runs."
   ]
  },
  {
   "cell_type": "code",
   "execution_count": 39,
   "id": "a1c33bd3",
   "metadata": {},
   "outputs": [],
   "source": [
    "from fairml import audit_model\n",
    "from fairml import plot_dependencies\n",
    "import fairml\n",
    "from collections import defaultdict"
   ]
  },
  {
   "cell_type": "code",
   "execution_count": 40,
   "id": "6aa2bf89",
   "metadata": {},
   "outputs": [
    {
     "name": "stdout",
     "output_type": "stream",
     "text": [
      "Help on package fairml:\n",
      "\n",
      "NAME\n",
      "    fairml\n",
      "\n",
      "PACKAGE CONTENTS\n",
      "    black_box_functionality\n",
      "    graphing\n",
      "    non_linear_expansion\n",
      "    orthogonal_projection\n",
      "    perturbation_strategies\n",
      "    utils\n",
      "\n",
      "FILE\n",
      "    c:\\users\\equipo\\anaconda3\\lib\\site-packages\\fairml\\__init__.py\n",
      "\n",
      "\n"
     ]
    }
   ],
   "source": [
    "help(fairml)"
   ]
  },
  {
   "cell_type": "markdown",
   "id": "4761414b",
   "metadata": {},
   "source": [
    "# Ryan´s classes\n"
   ]
  },
  {
   "cell_type": "code",
   "execution_count": 4,
   "id": "f52afb90",
   "metadata": {},
   "outputs": [],
   "source": [
    "#Original code is fairdetect_functions\n",
    "import fairdetect_classes \n",
    "from fairdetect_classes import FairDetect, Report, Backup, EnhancedLabelEncoder, Splitting\n",
    "#Everything is imported from the fairdetect_classes import list so next lines are skippable"
   ]
  },
  {
   "cell_type": "markdown",
   "id": "9c977794",
   "metadata": {},
   "source": [
    "# Read in the propublica data to be used for our analysis\n"
   ]
  },
  {
   "cell_type": "code",
   "execution_count": 5,
   "id": "7d9f6558",
   "metadata": {},
   "outputs": [],
   "source": [
    "data = pd.read_csv(\"synthetic_credit_card_approval.csv\")\n",
    "data2 = data.copy()"
   ]
  },
  {
   "cell_type": "markdown",
   "id": "dba61c57",
   "metadata": {},
   "source": [
    "# Data Cleaning"
   ]
  },
  {
   "cell_type": "code",
   "execution_count": 6,
   "id": "c935a319",
   "metadata": {},
   "outputs": [
    {
     "data": {
      "text/html": [
       "<div>\n",
       "<style scoped>\n",
       "    .dataframe tbody tr th:only-of-type {\n",
       "        vertical-align: middle;\n",
       "    }\n",
       "\n",
       "    .dataframe tbody tr th {\n",
       "        vertical-align: top;\n",
       "    }\n",
       "\n",
       "    .dataframe thead th {\n",
       "        text-align: right;\n",
       "    }\n",
       "</style>\n",
       "<table border=\"1\" class=\"dataframe\">\n",
       "  <thead>\n",
       "    <tr style=\"text-align: right;\">\n",
       "      <th></th>\n",
       "      <th>Num_Children</th>\n",
       "      <th>Group</th>\n",
       "      <th>Income</th>\n",
       "      <th>Own_Car</th>\n",
       "      <th>Own_Housing</th>\n",
       "      <th>Target</th>\n",
       "    </tr>\n",
       "  </thead>\n",
       "  <tbody>\n",
       "    <tr>\n",
       "      <th>0</th>\n",
       "      <td>4</td>\n",
       "      <td>0</td>\n",
       "      <td>36151</td>\n",
       "      <td>0</td>\n",
       "      <td>0</td>\n",
       "      <td>0</td>\n",
       "    </tr>\n",
       "    <tr>\n",
       "      <th>1</th>\n",
       "      <td>0</td>\n",
       "      <td>0</td>\n",
       "      <td>36095</td>\n",
       "      <td>1</td>\n",
       "      <td>0</td>\n",
       "      <td>0</td>\n",
       "    </tr>\n",
       "    <tr>\n",
       "      <th>2</th>\n",
       "      <td>2</td>\n",
       "      <td>1</td>\n",
       "      <td>62110</td>\n",
       "      <td>1</td>\n",
       "      <td>1</td>\n",
       "      <td>0</td>\n",
       "    </tr>\n",
       "    <tr>\n",
       "      <th>3</th>\n",
       "      <td>0</td>\n",
       "      <td>1</td>\n",
       "      <td>73644</td>\n",
       "      <td>1</td>\n",
       "      <td>0</td>\n",
       "      <td>0</td>\n",
       "    </tr>\n",
       "    <tr>\n",
       "      <th>4</th>\n",
       "      <td>3</td>\n",
       "      <td>0</td>\n",
       "      <td>99146</td>\n",
       "      <td>0</td>\n",
       "      <td>0</td>\n",
       "      <td>1</td>\n",
       "    </tr>\n",
       "    <tr>\n",
       "      <th>...</th>\n",
       "      <td>...</td>\n",
       "      <td>...</td>\n",
       "      <td>...</td>\n",
       "      <td>...</td>\n",
       "      <td>...</td>\n",
       "      <td>...</td>\n",
       "    </tr>\n",
       "    <tr>\n",
       "      <th>499995</th>\n",
       "      <td>1</td>\n",
       "      <td>0</td>\n",
       "      <td>43299</td>\n",
       "      <td>1</td>\n",
       "      <td>1</td>\n",
       "      <td>0</td>\n",
       "    </tr>\n",
       "    <tr>\n",
       "      <th>499996</th>\n",
       "      <td>8</td>\n",
       "      <td>1</td>\n",
       "      <td>75956</td>\n",
       "      <td>1</td>\n",
       "      <td>1</td>\n",
       "      <td>1</td>\n",
       "    </tr>\n",
       "    <tr>\n",
       "      <th>499997</th>\n",
       "      <td>3</td>\n",
       "      <td>0</td>\n",
       "      <td>66476</td>\n",
       "      <td>0</td>\n",
       "      <td>0</td>\n",
       "      <td>0</td>\n",
       "    </tr>\n",
       "    <tr>\n",
       "      <th>499998</th>\n",
       "      <td>2</td>\n",
       "      <td>1</td>\n",
       "      <td>74524</td>\n",
       "      <td>0</td>\n",
       "      <td>0</td>\n",
       "      <td>0</td>\n",
       "    </tr>\n",
       "    <tr>\n",
       "      <th>499999</th>\n",
       "      <td>4</td>\n",
       "      <td>0</td>\n",
       "      <td>31129</td>\n",
       "      <td>1</td>\n",
       "      <td>0</td>\n",
       "      <td>0</td>\n",
       "    </tr>\n",
       "  </tbody>\n",
       "</table>\n",
       "<p>500000 rows × 6 columns</p>\n",
       "</div>"
      ],
      "text/plain": [
       "        Num_Children  Group  Income  Own_Car  Own_Housing  Target\n",
       "0                  4      0   36151        0            0       0\n",
       "1                  0      0   36095        1            0       0\n",
       "2                  2      1   62110        1            1       0\n",
       "3                  0      1   73644        1            0       0\n",
       "4                  3      0   99146        0            0       1\n",
       "...              ...    ...     ...      ...          ...     ...\n",
       "499995             1      0   43299        1            1       0\n",
       "499996             8      1   75956        1            1       1\n",
       "499997             3      0   66476        0            0       0\n",
       "499998             2      1   74524        0            0       0\n",
       "499999             4      0   31129        1            0       0\n",
       "\n",
       "[500000 rows x 6 columns]"
      ]
     },
     "execution_count": 6,
     "metadata": {},
     "output_type": "execute_result"
    }
   ],
   "source": [
    "from fairdetect_classes import EnhancedLabelEncoder\n",
    "le = EnhancedLabelEncoder()\n",
    "le.fit_transform_columns(data)"
   ]
  },
  {
   "cell_type": "code",
   "execution_count": 7,
   "id": "ee2bda22",
   "metadata": {},
   "outputs": [
    {
     "data": {
      "text/html": [
       "<div>\n",
       "<style scoped>\n",
       "    .dataframe tbody tr th:only-of-type {\n",
       "        vertical-align: middle;\n",
       "    }\n",
       "\n",
       "    .dataframe tbody tr th {\n",
       "        vertical-align: top;\n",
       "    }\n",
       "\n",
       "    .dataframe thead th {\n",
       "        text-align: right;\n",
       "    }\n",
       "</style>\n",
       "<table border=\"1\" class=\"dataframe\">\n",
       "  <thead>\n",
       "    <tr style=\"text-align: right;\">\n",
       "      <th></th>\n",
       "      <th>Num_Children</th>\n",
       "      <th>Group</th>\n",
       "      <th>Income</th>\n",
       "      <th>Own_Car</th>\n",
       "      <th>Own_Housing</th>\n",
       "      <th>Target</th>\n",
       "    </tr>\n",
       "  </thead>\n",
       "  <tbody>\n",
       "    <tr>\n",
       "      <th>0</th>\n",
       "      <td>4</td>\n",
       "      <td>0</td>\n",
       "      <td>36151</td>\n",
       "      <td>0</td>\n",
       "      <td>0</td>\n",
       "      <td>0</td>\n",
       "    </tr>\n",
       "    <tr>\n",
       "      <th>1</th>\n",
       "      <td>0</td>\n",
       "      <td>0</td>\n",
       "      <td>36095</td>\n",
       "      <td>1</td>\n",
       "      <td>0</td>\n",
       "      <td>0</td>\n",
       "    </tr>\n",
       "    <tr>\n",
       "      <th>2</th>\n",
       "      <td>2</td>\n",
       "      <td>1</td>\n",
       "      <td>62110</td>\n",
       "      <td>1</td>\n",
       "      <td>1</td>\n",
       "      <td>0</td>\n",
       "    </tr>\n",
       "    <tr>\n",
       "      <th>3</th>\n",
       "      <td>0</td>\n",
       "      <td>1</td>\n",
       "      <td>73644</td>\n",
       "      <td>1</td>\n",
       "      <td>0</td>\n",
       "      <td>0</td>\n",
       "    </tr>\n",
       "    <tr>\n",
       "      <th>4</th>\n",
       "      <td>3</td>\n",
       "      <td>0</td>\n",
       "      <td>99146</td>\n",
       "      <td>0</td>\n",
       "      <td>0</td>\n",
       "      <td>1</td>\n",
       "    </tr>\n",
       "    <tr>\n",
       "      <th>...</th>\n",
       "      <td>...</td>\n",
       "      <td>...</td>\n",
       "      <td>...</td>\n",
       "      <td>...</td>\n",
       "      <td>...</td>\n",
       "      <td>...</td>\n",
       "    </tr>\n",
       "    <tr>\n",
       "      <th>499995</th>\n",
       "      <td>1</td>\n",
       "      <td>0</td>\n",
       "      <td>43299</td>\n",
       "      <td>1</td>\n",
       "      <td>1</td>\n",
       "      <td>0</td>\n",
       "    </tr>\n",
       "    <tr>\n",
       "      <th>499996</th>\n",
       "      <td>8</td>\n",
       "      <td>1</td>\n",
       "      <td>75956</td>\n",
       "      <td>1</td>\n",
       "      <td>1</td>\n",
       "      <td>1</td>\n",
       "    </tr>\n",
       "    <tr>\n",
       "      <th>499997</th>\n",
       "      <td>3</td>\n",
       "      <td>0</td>\n",
       "      <td>66476</td>\n",
       "      <td>0</td>\n",
       "      <td>0</td>\n",
       "      <td>0</td>\n",
       "    </tr>\n",
       "    <tr>\n",
       "      <th>499998</th>\n",
       "      <td>2</td>\n",
       "      <td>1</td>\n",
       "      <td>74524</td>\n",
       "      <td>0</td>\n",
       "      <td>0</td>\n",
       "      <td>0</td>\n",
       "    </tr>\n",
       "    <tr>\n",
       "      <th>499999</th>\n",
       "      <td>4</td>\n",
       "      <td>0</td>\n",
       "      <td>31129</td>\n",
       "      <td>1</td>\n",
       "      <td>0</td>\n",
       "      <td>0</td>\n",
       "    </tr>\n",
       "  </tbody>\n",
       "</table>\n",
       "<p>450798 rows × 6 columns</p>\n",
       "</div>"
      ],
      "text/plain": [
       "        Num_Children  Group  Income  Own_Car  Own_Housing  Target\n",
       "0                  4      0   36151        0            0       0\n",
       "1                  0      0   36095        1            0       0\n",
       "2                  2      1   62110        1            1       0\n",
       "3                  0      1   73644        1            0       0\n",
       "4                  3      0   99146        0            0       1\n",
       "...              ...    ...     ...      ...          ...     ...\n",
       "499995             1      0   43299        1            1       0\n",
       "499996             8      1   75956        1            1       1\n",
       "499997             3      0   66476        0            0       0\n",
       "499998             2      1   74524        0            0       0\n",
       "499999             4      0   31129        1            0       0\n",
       "\n",
       "[450798 rows x 6 columns]"
      ]
     },
     "execution_count": 7,
     "metadata": {},
     "output_type": "execute_result"
    }
   ],
   "source": [
    "data.drop_duplicates()"
   ]
  },
  {
   "cell_type": "markdown",
   "id": "59662277",
   "metadata": {},
   "source": [
    "# Splitting"
   ]
  },
  {
   "cell_type": "code",
   "execution_count": 8,
   "id": "4146e975",
   "metadata": {},
   "outputs": [
    {
     "name": "stdout",
     "output_type": "stream",
     "text": [
      "Original data file now splitted in 4 files\n"
     ]
    }
   ],
   "source": [
    "from fairdetect_classes import Splitting\n",
    "sp = Splitting()\n",
    "X_train, X_test, y_train, y_test = sp.split_data(data,'Target') #define the dependent parameter \n",
    "print(\"Original data file now splitted in 4 files\")"
   ]
  },
  {
   "cell_type": "markdown",
   "id": "faf156ed",
   "metadata": {},
   "source": [
    "# Fitting the model"
   ]
  },
  {
   "cell_type": "code",
   "execution_count": 9,
   "id": "4b24bac4",
   "metadata": {},
   "outputs": [
    {
     "name": "stdout",
     "output_type": "stream",
     "text": [
      "Success: XGBoost model fitted\n"
     ]
    }
   ],
   "source": [
    "import xgboost\n",
    "model = xgboost.XGBClassifier().fit(X_train, y_train)\n",
    "y_test_predict = model.predict(X_test)\n",
    "y_test_predict\n",
    "print(\"Success: XGBoost model fitted\")"
   ]
  },
  {
   "cell_type": "code",
   "execution_count": 10,
   "id": "fa484e49",
   "metadata": {},
   "outputs": [],
   "source": [
    "fd = FairDetect(model, X_test, y_test)"
   ]
  },
  {
   "cell_type": "markdown",
   "id": "b3b136a7",
   "metadata": {},
   "source": [
    "# this is just for demonstration, any classifier or regressor can be used here. fairml only requires a predict function to diagnose a black-box model we fit a quick and dirty logistic regression sklearn model here."
   ]
  },
  {
   "cell_type": "code",
   "execution_count": 48,
   "id": "8f0c4752",
   "metadata": {},
   "outputs": [],
   "source": [
    "import matplotlib\n",
    "matplotlib.use('Agg')\n",
    "import numpy as np\n",
    "import matplotlib.pyplot as plt\n",
    "import seaborn as sns\n",
    "\n",
    "import pandas as pd\n",
    "from sklearn.linear_model import LogisticRegression"
   ]
  },
  {
   "cell_type": "code",
   "execution_count": 45,
   "id": "af221dbd",
   "metadata": {},
   "outputs": [],
   "source": [
    "# call audit model with model\n",
    "total, _ = audit_model(model.predict , X_train)"
   ]
  },
  {
   "cell_type": "code",
   "execution_count": 46,
   "id": "1e4cb75b",
   "metadata": {},
   "outputs": [],
   "source": [
    "direct_pertubation_feature_output_dictionary = defaultdict(list)\n",
    "complete_perturbation_dictionary = defaultdict(list)"
   ]
  },
  {
   "cell_type": "code",
   "execution_count": 49,
   "id": "6bf59dce",
   "metadata": {},
   "outputs": [
    {
     "name": "stdout",
     "output_type": "stream",
     "text": [
      "Feature: Num_Children,\t Importance: 0.3256\n",
      "Feature: Group,\t Importance: 0.2880125\n",
      "Feature: Income,\t Importance: 0.387365\n",
      "Feature: Own_Car,\t Importance: 0.29948\n",
      "Feature: Own_Housing,\t Importance: 0.1945575\n"
     ]
    }
   ],
   "source": [
    "# print feature importance\n",
    "print(total)\n",
    "\n",
    "# generate feature dependence plot\n",
    "fig = plot_dependencies(\n",
    "    total.median(),\n",
    "    reverse_values=False,\n",
    "    title=\"FairML feature dependence\"\n",
    ")\n",
    "plt.savefig(\"fairml_ldp.eps\", transparent=False, bbox_inches='tight')"
   ]
  },
  {
   "cell_type": "code",
   "execution_count": 52,
   "id": "a459ac46",
   "metadata": {},
   "outputs": [],
   "source": [
    "file_name = \"fairml_ldp.png\"\n",
    "plt.savefig(file_name, transparent=False, bbox_inches='tight', dpi=250)"
   ]
  },
  {
   "cell_type": "code",
   "execution_count": 56,
   "id": "2f96a034",
   "metadata": {},
   "outputs": [
    {
     "ename": "TypeError",
     "evalue": "show() takes 1 positional argument but 2 were given",
     "output_type": "error",
     "traceback": [
      "\u001b[1;31m---------------------------------------------------------------------------\u001b[0m",
      "\u001b[1;31mTypeError\u001b[0m                                 Traceback (most recent call last)",
      "Input \u001b[1;32mIn [56]\u001b[0m, in \u001b[0;36m<cell line: 1>\u001b[1;34m()\u001b[0m\n\u001b[1;32m----> 1\u001b[0m \u001b[43mplt\u001b[49m\u001b[38;5;241;43m.\u001b[39;49m\u001b[43mshow\u001b[49m\u001b[43m(\u001b[49m\u001b[43mfile_name\u001b[49m\u001b[43m)\u001b[49m\n",
      "File \u001b[1;32m~\\anaconda3\\lib\\site-packages\\matplotlib\\pyplot.py:368\u001b[0m, in \u001b[0;36mshow\u001b[1;34m(*args, **kwargs)\u001b[0m\n\u001b[0;32m    324\u001b[0m \u001b[38;5;124;03m\"\"\"\u001b[39;00m\n\u001b[0;32m    325\u001b[0m \u001b[38;5;124;03mDisplay all open figures.\u001b[39;00m\n\u001b[0;32m    326\u001b[0m \n\u001b[1;32m   (...)\u001b[0m\n\u001b[0;32m    365\u001b[0m \u001b[38;5;124;03mexplicitly there.\u001b[39;00m\n\u001b[0;32m    366\u001b[0m \u001b[38;5;124;03m\"\"\"\u001b[39;00m\n\u001b[0;32m    367\u001b[0m _warn_if_gui_out_of_main_thread()\n\u001b[1;32m--> 368\u001b[0m \u001b[38;5;28;01mreturn\u001b[39;00m _backend_mod\u001b[38;5;241m.\u001b[39mshow(\u001b[38;5;241m*\u001b[39margs, \u001b[38;5;241m*\u001b[39m\u001b[38;5;241m*\u001b[39mkwargs)\n",
      "\u001b[1;31mTypeError\u001b[0m: show() takes 1 positional argument but 2 were given"
     ]
    }
   ],
   "source": [
    "plt.show(file_name)"
   ]
  },
  {
   "cell_type": "markdown",
   "id": "4a700514",
   "metadata": {},
   "source": [
    "# Not working moving to the next ... EthicML"
   ]
  },
  {
   "cell_type": "markdown",
   "id": "0104b71e",
   "metadata": {},
   "source": [
    "https://wearepal.ai/EthicML/tutorials/adult_dataset.html"
   ]
  },
  {
   "cell_type": "code",
   "execution_count": null,
   "id": "7a0c31c2",
   "metadata": {},
   "outputs": [],
   "source": [
    "!pip install ethicml"
   ]
  },
  {
   "cell_type": "code",
   "execution_count": null,
   "id": "79ff8a5e",
   "metadata": {},
   "outputs": [],
   "source": [
    "import ethicml as em\n",
    "import ethicml.data as emda\n",
    "from ethicml import metrics, models\n",
    "\n",
    "results = em.evaluate_models(\n",
    "    datasets=[emda.Adult()],\n",
    "    inprocess_models=[models.SVM(), models.Kamiran()],\n",
    "    preprocess_models=[models.Upsampler()],\n",
    "    metrics=[metrics.Accuracy()],\n",
    "    per_sens_metrics=[metrics.ProbPos(), metrics.TPR()],\n",
    "    repeats=5,\n",
    ")\n",
    "em.plot_results(results, \"Accuracy\", \"prob_pos_Male_0÷Male_1\")"
   ]
  },
  {
   "cell_type": "code",
   "execution_count": null,
   "id": "407a3206",
   "metadata": {},
   "outputs": [],
   "source": [
    "data = em.data.data()"
   ]
  },
  {
   "cell_type": "code",
   "execution_count": null,
   "id": "cbb3874e",
   "metadata": {},
   "outputs": [],
   "source": [
    "data: em.DataTuple = adult.load()"
   ]
  }
 ],
 "metadata": {
  "kernelspec": {
   "display_name": "Python 3 (ipykernel)",
   "language": "python",
   "name": "python3"
  },
  "language_info": {
   "codemirror_mode": {
    "name": "ipython",
    "version": 3
   },
   "file_extension": ".py",
   "mimetype": "text/x-python",
   "name": "python",
   "nbconvert_exporter": "python",
   "pygments_lexer": "ipython3",
   "version": "3.9.12"
  }
 },
 "nbformat": 4,
 "nbformat_minor": 5
}
