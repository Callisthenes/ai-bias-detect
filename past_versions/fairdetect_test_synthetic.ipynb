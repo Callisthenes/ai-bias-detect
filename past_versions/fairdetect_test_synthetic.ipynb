{
 "cells": [
  {
   "cell_type": "code",
   "execution_count": null,
   "id": "b7c20453",
   "metadata": {},
   "outputs": [],
   "source": [
    "from IPython.display import display, HTML\n",
    "display(HTML(\"<style>.container { width:100% !important; }</style>\"))"
   ]
  },
  {
   "cell_type": "markdown",
   "id": "ac4fe0da",
   "metadata": {},
   "source": [
    "<img src=\"group_a.png\" width=500 height=500 align=\"center\">\n",
    "\n",
    "Authors:STEPHANIE GESSLER,\n",
    "        SALMA ELGUENDY,\n",
    "        PEDRO , \n",
    "        ITAY, \n",
    "        MOHAMAD, \n",
    "        CONNIE\n",
    "\n",
    "Last revision: 20/Juli/2022"
   ]
  },
  {
   "cell_type": "markdown",
   "id": "560d86cd",
   "metadata": {},
   "source": [
    "# Python Assignment Group A - Fairdetect Test - Part I "
   ]
  },
  {
   "cell_type": "markdown",
   "id": "efdefefc",
   "metadata": {},
   "source": [
    "# Sections \n",
    "* [Libaries used](#0)\n",
    "* [1. Loading synthetic credit card approval dataset](#1)\n",
    "* [2. Exploratory Data Analysis](#2)  \n",
    "  * [2.1 Profile Pandas](#2.1)\n",
    "  * [2.2 Own EDA](#2.2)\n",
    "* [3. Data Cleansing](#3) \n",
    "* [4. Data Splitting](#4)\n",
    "* [5. Model Training](#5)\n",
    "* [6. Testing Bias with FairDetect](#6)\n",
    "* [7. SHapley Additive exPlanations (SHAP)](#7)"
   ]
  },
  {
   "cell_type": "markdown",
   "id": "72c8ca15",
   "metadata": {},
   "source": [
    "<a id='0'></a>\n",
    "# Libaries and pip installments used"
   ]
  },
  {
   "cell_type": "markdown",
   "id": "Bm2JTU_rL4ve",
   "metadata": {
    "id": "Bm2JTU_rL4ve"
   },
   "source": [
    "# ***Installing dependencies***  "
   ]
  },
  {
   "cell_type": "markdown",
   "id": "79206c64",
   "metadata": {},
   "source": [
    "### Skip if you already installed pandas-profiling tool"
   ]
  },
  {
   "cell_type": "code",
   "execution_count": null,
   "id": "f7a1662e",
   "metadata": {
    "colab": {
     "base_uri": "https://localhost:8080/"
    },
    "executionInfo": {
     "elapsed": 37015,
     "status": "ok",
     "timestamp": 1658492669881,
     "user": {
      "displayName": "Pedro Vicente Esteban",
      "userId": "10655372349329353447"
     },
     "user_tz": -120
    },
    "id": "f7a1662e",
    "outputId": "7dded7b1-c17a-48dd-db3f-22a703440e98"
   },
   "outputs": [],
   "source": [
    "#Installs Pandas Profiling Tool from an alternative repository\n",
    "!pip install https://github.com/pandas-profiling/pandas-profiling/archive/master.zip      \n",
    "!pip install pyyaml==5.4.1 "
   ]
  },
  {
   "cell_type": "markdown",
   "id": "de8fb212",
   "metadata": {},
   "source": [
    "# Importing Ryan's functions now converted as classes"
   ]
  },
  {
   "cell_type": "code",
   "execution_count": 1,
   "id": "13126cbd",
   "metadata": {},
   "outputs": [],
   "source": [
    "#Original code is fairdetect_functions\n",
    "import fairdetect_classes \n",
    "from fairdetect_classes import FairDetect, Report, Backup, EnhancedLabelEncoder, Splitting\n",
    "#Everything is imported from the fairdetect_classes import list so next lines are skippable"
   ]
  },
  {
   "cell_type": "markdown",
   "id": "8f454e96",
   "metadata": {
    "executionInfo": {
     "elapsed": 351,
     "status": "ok",
     "timestamp": 1658492794176,
     "user": {
      "displayName": "Pedro Vicente Esteban",
      "userId": "10655372349329353447"
     },
     "user_tz": -120
    },
    "id": "YMVfJyG0QnS1"
   },
   "source": [
    "## In case you need any of the libraries in the fairdetect_functions.py"
   ]
  },
  {
   "cell_type": "raw",
   "id": "6257b101",
   "metadata": {},
   "source": [
    "import numpy as np\n",
    "import seaborn as sns\n",
    "import sklearn\n",
    "import matplotlib\n",
    "import matplotlib.pyplot as plt\n",
    "%matplotlib inline \n",
    "import warnings\n",
    "warnings.filterwarnings('ignore') # Do not print warning messages\n",
    "from pandas_profiling import ProfileReport"
   ]
  },
  {
   "cell_type": "markdown",
   "id": "HFov4bpTQuN2",
   "metadata": {
    "id": "HFov4bpTQuN2"
   },
   "source": [
    "<a id='0'></a>\n",
    "# 1. Loading synthetic credit card approval dataset"
   ]
  },
  {
   "cell_type": "markdown",
   "id": "5cd1c350",
   "metadata": {},
   "source": [
    "Make sure the sql db file is within the same folder!!"
   ]
  },
  {
   "cell_type": "code",
   "execution_count": 2,
   "id": "43a59fc9",
   "metadata": {},
   "outputs": [
    {
     "name": "stdout",
     "output_type": "stream",
     "text": [
      "   id  children  group  income  own_car  own_housing  target\n",
      "0   1         4      0   36151        0            0       0\n",
      "1   2         0      0   36095        1            0       0\n",
      "2   3         2      1   62110        1            1       0\n",
      "3   4         0      1   73644        1            0       0\n",
      "4   5         3      0   99146        0            0       1\n"
     ]
    }
   ],
   "source": [
    "import pandas as pd\n",
    "import sqlite3\n",
    "\n",
    "# Read sqlite query results into a pandas DataFrame\n",
    "con = sqlite3.connect(\"synthetic_credit_card.db\")\n",
    "data = pd.read_sql_query(\"SELECT * from credit_card\", con)\n",
    "\n",
    "# Verify that result of SQL query is stored in the dataframe\n",
    "print(data.head())\n",
    "\n",
    "con.close()"
   ]
  },
  {
   "cell_type": "markdown",
   "id": "fc7f718a",
   "metadata": {},
   "source": [
    "## Making a backup of original dataframe in case we need to compare later"
   ]
  },
  {
   "cell_type": "code",
   "execution_count": null,
   "id": "c1f71aa8",
   "metadata": {},
   "outputs": [],
   "source": [
    "data2 = data.copy()"
   ]
  },
  {
   "cell_type": "markdown",
   "id": "a87d8852",
   "metadata": {},
   "source": [
    "## Taking a look at how the data looks like (Head, describe and value counts...)"
   ]
  },
  {
   "cell_type": "code",
   "execution_count": null,
   "id": "697429cb",
   "metadata": {},
   "outputs": [],
   "source": [
    "data.describe()"
   ]
  },
  {
   "cell_type": "code",
   "execution_count": null,
   "id": "50ff7eb3",
   "metadata": {},
   "outputs": [],
   "source": [
    "data.dtypes\n"
   ]
  },
  {
   "cell_type": "code",
   "execution_count": null,
   "id": "ewWrAQAKUJJz",
   "metadata": {
    "colab": {
     "base_uri": "https://localhost:8080/",
     "height": 206
    },
    "executionInfo": {
     "elapsed": 421,
     "status": "ok",
     "timestamp": 1658492861908,
     "user": {
      "displayName": "Pedro Vicente Esteban",
      "userId": "10655372349329353447"
     },
     "user_tz": -120
    },
    "id": "ewWrAQAKUJJz",
    "outputId": "430bb7f6-106a-48fd-b77c-d1a1385d2d18"
   },
   "outputs": [],
   "source": [
    "data.head()"
   ]
  },
  {
   "cell_type": "code",
   "execution_count": null,
   "id": "e17bfab2",
   "metadata": {},
   "outputs": [],
   "source": [
    "data.value_counts('own_car')"
   ]
  },
  {
   "cell_type": "markdown",
   "id": "a25d3813",
   "metadata": {},
   "source": [
    "3/4 own a vehicle"
   ]
  },
  {
   "cell_type": "code",
   "execution_count": null,
   "id": "b6a33439",
   "metadata": {},
   "outputs": [],
   "source": [
    "data.value_counts('own_housing')"
   ]
  },
  {
   "cell_type": "markdown",
   "id": "1599df4c",
   "metadata": {},
   "source": [
    "3/5 do not own a house"
   ]
  },
  {
   "cell_type": "markdown",
   "id": "7Ckikq6mTerC",
   "metadata": {
    "id": "7Ckikq6mTerC"
   },
   "source": [
    "<a id='2'></a>\n",
    "\n",
    "# 2. Exploratory Data Analysis \n",
    "### Analysis of the dataset \n",
    "\n"
   ]
  },
  {
   "cell_type": "markdown",
   "id": "2bf42b38",
   "metadata": {},
   "source": [
    "<a id='2.1'></a>\n",
    "## 2.1 Pandas Profiling \n",
    "### Do not run if pandas-profiling tool is not installed"
   ]
  },
  {
   "cell_type": "code",
   "execution_count": null,
   "id": "b4b57095",
   "metadata": {},
   "outputs": [],
   "source": [
    "from pandas_profiling import ProfileReport\n",
    "report = ProfileReport(data, minimal=False)\n",
    "report"
   ]
  },
  {
   "cell_type": "markdown",
   "id": "a51c2149",
   "metadata": {},
   "source": [
    "# Remarks from the EDA"
   ]
  },
  {
   "cell_type": "markdown",
   "id": "36db7d79",
   "metadata": {},
   "source": [
    "- 6 attributes all integers: number of children, group, income, own car, own house and target (for a credit card)\n",
    "\n",
    "- 1/2 million records, no missing values but 45000 duplicates\n",
    "\n",
    "- Group attribute is almost symmetrical, 50 - 50 %\n",
    "\n",
    "- Number of children, majority of this sample has either 2 or 3\n",
    "\n",
    "- The average salary is at 72,000 \n",
    "\n",
    "- Most of the sample population has a car but not a home\n",
    "\n",
    "- Only 2/5 are target for a credit card, income being the most correlated variable of the 5\n",
    "\n"
   ]
  },
  {
   "cell_type": "markdown",
   "id": "6fea8092",
   "metadata": {},
   "source": [
    "<a id='2.2'></a>\n",
    "## 2.2. Own EDA  "
   ]
  },
  {
   "cell_type": "markdown",
   "id": "ca92464a",
   "metadata": {},
   "source": [
    "## Alternative to Pandas-profiling tool to understand better the initial biases (user experience enhancement)"
   ]
  },
  {
   "cell_type": "code",
   "execution_count": 3,
   "id": "1hPU6YyRTeeb",
   "metadata": {
    "colab": {
     "base_uri": "https://localhost:8080/",
     "height": 917,
     "referenced_widgets": [
      "7b3c713fbaf04ee6bd20a57056d39868",
      "452419c4c7ba49f48e2bdb299783bad9",
      "ff5fb35d9a254c1f986f967d1549378e",
      "04ebe5a69a4345b5bbf393db812fccea",
      "018c7d6bfe1147ca9d02dcaa514845da",
      "0e863a2f85bd4bd0b83538c11f943620",
      "79d000d00ef74a56a8b38b33574cee90",
      "db5764731ec841ae977c105c676f293c",
      "828a245d1e8a4c898c043086a5945f1a",
      "d0b69f39391140fda5d3a4f7bbdf7c67",
      "6e6a8640ddd14cc185b8e1fcade561cc",
      "002cb2ba771c4f5aa4a5d4de234c57b6",
      "02bbf186c8b9466cbade83ef36e9e096",
      "78221a36de924967a9729f74f70db707",
      "2796893bb6c5458580709166a544b85a",
      "0b206d0fae0e4caf83ad7a8ad14b9215",
      "cc67ebf3e3f14d378ec9d1e1faebe937",
      "abaaa0a2cc304c1499813b15259d1728",
      "53d5cbc9e85c40f48cbc6b07517578ca",
      "e134f949e9ae47fbbb9e5b218b081189",
      "89fc010e64a941caa59cbb821511b53f",
      "5be2b19204c249a188b606ec15f821dc",
      "7f3634d7df104d17ae99141ba885e08e",
      "c6bc9bbc441d42e2a3869029c6392fb3",
      "16271026912b42a28817bdc0ac50fbab",
      "21305445d86c42c28a67ba3e8e15e136",
      "c157c38dfe8543ae8002b7f4b18f3f01",
      "8b9f69b7b96b4f74b883c3b427d92f06",
      "50a8eabc903d48c58fc8bcee08c8495c",
      "82f952ee797d4e58bd9429290e90432d",
      "d2d55378ff8a4ce5a95aa74138f08496",
      "add6812343d54bac8094e8fbc9df2d4f",
      "d3b4c22bf93646eabe8f5abfb396cb86"
     ]
    },
    "executionInfo": {
     "elapsed": 12180,
     "status": "ok",
     "timestamp": 1658483949534,
     "user": {
      "displayName": "Pedro Vicente Esteban",
      "userId": "10655372349329353447"
     },
     "user_tz": -120
    },
    "id": "1hPU6YyRTeeb",
    "outputId": "a323f65e-8a2d-4436-986c-fe21b3e0837b",
    "scrolled": false
   },
   "outputs": [
    {
     "data": {
      "image/png": "[encoded data removed]",
      "text/plain": [
       "<Figure size 1080x864 with 20 Axes>"
      ]
     },
     "metadata": {
      "needs_background": "light"
     },
     "output_type": "display_data"
    },
    {
     "data": {
      "image/png": "[encoded data removed]",
      "text/plain": [
       "<Figure size 1260x1260 with 56 Axes>"
      ]
     },
     "metadata": {
      "needs_background": "light"
     },
     "output_type": "display_data"
    },
    {
     "data": {
      "text/plain": [
       "<Figure size 432x288 with 0 Axes>"
      ]
     },
     "metadata": {},
     "output_type": "display_data"
    },
    {
     "data": {
      "image/png": "[encoded data removed]",
      "text/plain": [
       "<Figure size 3600x720 with 2 Axes>"
      ]
     },
     "metadata": {
      "needs_background": "light"
     },
     "output_type": "display_data"
    },
    {
     "name": "stdout",
     "output_type": "stream",
     "text": [
      "Data Value Counts Dependent\n"
     ]
    },
    {
     "data": {
      "text/plain": [
       "(array([[<AxesSubplot:title={'center':'id'}>,\n",
       "         <AxesSubplot:title={'center':'children'}>,\n",
       "         <AxesSubplot:title={'center':'group'}>,\n",
       "         <AxesSubplot:title={'center':'income'}>],\n",
       "        [<AxesSubplot:title={'center':'own_car'}>,\n",
       "         <AxesSubplot:title={'center':'own_housing'}>,\n",
       "         <AxesSubplot:title={'center':'target'}>, <AxesSubplot:>],\n",
       "        [<AxesSubplot:>, <AxesSubplot:>, <AxesSubplot:>, <AxesSubplot:>],\n",
       "        [<AxesSubplot:>, <AxesSubplot:>, <AxesSubplot:>, <AxesSubplot:>],\n",
       "        [<AxesSubplot:>, <AxesSubplot:>, <AxesSubplot:>, <AxesSubplot:>]],\n",
       "       dtype=object),\n",
       " Text(0.5, 1.08, 'Pairplot'),\n",
       " <AxesSubplot:>,\n",
       " target\n",
       " 0    306687\n",
       " 1    193313\n",
       " dtype: int64,\n",
       " )"
      ]
     },
     "execution_count": 3,
     "metadata": {},
     "output_type": "execute_result"
    }
   ],
   "source": [
    "r = Report()\n",
    "r.profilereporting(data,'target')\n",
    "# Must wait at least one minute"
   ]
  },
  {
   "cell_type": "markdown",
   "id": "PE7Di-vMZ3jI",
   "metadata": {
    "id": "PE7Di-vMZ3jI"
   },
   "source": [
    "### Similar conclusions as with pandas-profiling\n",
    "- Seems that income is highly correlated with Target"
   ]
  },
  {
   "cell_type": "markdown",
   "id": "a5fa0a0c",
   "metadata": {
    "id": "a5fa0a0c"
   },
   "source": [
    "# Transparent Unfairness - How to Use the Functions (Now Methods) from fairdetect_classes.py\n",
    "\n",
    "## An approach to detecting and understanding machine learning bias, by Ryan Daher\n",
    "\n",
    "### Improvements made by Group A - MBD Part Time 2022-23"
   ]
  },
  {
   "cell_type": "markdown",
   "id": "b1aea0a8",
   "metadata": {
    "id": "b1aea0a8"
   },
   "source": [
    "Congregating the various theoretical concepts into a practical framework, we can follow the “theoretical lens of a ‘sense-plan-act’ cycle”, as described by the HLEG framework (European Commission and Directorate-General for Communications Networks, Content and Technology, 2019). Applying this concept to the problem of ML fairness, we can break down three core steps in providing robust, and responsible artificial intelligence: Identify, Understand, and Act (IUA)."
   ]
  },
  {
   "cell_type": "markdown",
   "id": "cf9c8943",
   "metadata": {
    "id": "cf9c8943"
   },
   "source": [
    "1. __Identify__: The process of exposing direct or indirect biases within a dataset and/or model.\n",
    "1. __Understand__: The process of isolating impactful scenarios and obtaining trans parent explanations for outcomes.\n",
    "1. __Act__: The process of reporting and rectifying identified disparities within the\n"
   ]
  },
  {
   "cell_type": "markdown",
   "id": "efdfd025",
   "metadata": {
    "id": "efdfd025"
   },
   "source": [
    "By understanding the philosophical forms of unfairness as defined by our review of the literature and categorizing our prominent fairness metrics into the overarching categories of representation, ability, and performance, we can establish a series of tests to “identify” levels of disparities between sensitive groups at different levels. Merging these findings with the explainability of our models through the use of white-box models, or Shapley value estimation for black-box models, we can dig deeper into the model’s predictions, “understanding” how classifications were made, and how they varied from the natural dataset exposing both natural biases as well as added model differences. Finally, by probing further into levels of misclassification, in particular looking at negative outcomes, we can isolate groups most at risk and set up a series of “actions” that can be taken to mitigate the effects. Given this three-step framework which combines societal, legal, and technical considerations, the paper will then go through a series of cases, and examine the proposed framework."
   ]
  },
  {
   "cell_type": "markdown",
   "id": "f95dda92",
   "metadata": {
    "id": "f95dda92"
   },
   "source": [
    "# Let's use fairdetect_classes to find biases\n",
    "For using fairdetect_classes we need create a model, for this we will:\n",
    "1. Import methods from classes files__ from fairdetect_classes (done at the beginning)\n",
    "1. then __load a dataset__, in this case we will use: synthetic credit card approval (already loaded with synthetic credit)\n",
    "1. then __clean and prepare the dataset__ for modeling, there are some duplicates in this case, we will take care of them below\n",
    "1. then we __split the data in train and test sets__ \n",
    "1. then we __build a model__, in this case we applying a Machine Learning (ML) model called XGBoost Classifier. The reason for choosing a ML is that ML models are harded to visualize, sometimes called Black Box models, what makes very difficult to see if any bias is present in the model.\n"
   ]
  },
  {
   "cell_type": "markdown",
   "id": "eb6386c6",
   "metadata": {
    "id": "eb6386c6"
   },
   "source": [
    "<a id='3'></a>\n",
    "# 3. Data Cleaning\n",
    "## Transforming/coding text into numbers"
   ]
  },
  {
   "cell_type": "markdown",
   "id": "4451726c",
   "metadata": {},
   "source": [
    "## Will only work with categorical variables. In this case, since we only have integers, it won't work!"
   ]
  },
  {
   "cell_type": "code",
   "execution_count": null,
   "id": "998f1e8b",
   "metadata": {
    "id": "998f1e8b",
    "outputId": "0c29595f-262a-482e-ee47-0d06f82270b9"
   },
   "outputs": [],
   "source": [
    "from fairdetect_classes import EnhancedLabelEncoder\n",
    "le = EnhancedLabelEncoder()\n",
    "le.fit_transform_columns(data)"
   ]
  },
  {
   "cell_type": "markdown",
   "id": "fa73737b",
   "metadata": {},
   "source": [
    "## Dropping duplicates"
   ]
  },
  {
   "cell_type": "code",
   "execution_count": null,
   "id": "d62820ca",
   "metadata": {},
   "outputs": [],
   "source": [
    "data.drop_duplicates()"
   ]
  },
  {
   "cell_type": "markdown",
   "id": "065c519b",
   "metadata": {},
   "source": [
    "<a id='4'></a>\n",
    "# 4. Data splitting to feed into the XGBOOST"
   ]
  },
  {
   "cell_type": "markdown",
   "id": "22ca8d22",
   "metadata": {
    "id": "22ca8d22"
   },
   "source": [
    "## Splitting the data into train and test"
   ]
  },
  {
   "cell_type": "code",
   "execution_count": null,
   "id": "adb57c03",
   "metadata": {
    "id": "adb57c03"
   },
   "outputs": [],
   "source": [
    "from fairdetect_classes import Splitting\n",
    "sp = Splitting()\n",
    "X_train, X_test, y_train, y_test = sp.split_data(data,'target') #define the dependent parameter "
   ]
  },
  {
   "cell_type": "code",
   "execution_count": null,
   "id": "40a68c23",
   "metadata": {},
   "outputs": [],
   "source": [
    "X_train.shape"
   ]
  },
  {
   "cell_type": "code",
   "execution_count": null,
   "id": "6ae0c59c",
   "metadata": {},
   "outputs": [],
   "source": [
    "X_test.shape"
   ]
  },
  {
   "cell_type": "markdown",
   "id": "ce2ea8c8",
   "metadata": {
    "id": "ce2ea8c8"
   },
   "source": [
    "<a id='5'></a>\n",
    "## 5. Training with the XGBoost model"
   ]
  },
  {
   "cell_type": "code",
   "execution_count": null,
   "id": "27d3fbfb",
   "metadata": {
    "id": "27d3fbfb",
    "outputId": "6230b505-523c-431d-a2f0-703bb9bfea55"
   },
   "outputs": [],
   "source": [
    "#Skip if already installed\n",
    "!pip install xgboost   "
   ]
  },
  {
   "cell_type": "code",
   "execution_count": null,
   "id": "ce1349f0",
   "metadata": {
    "id": "ce1349f0",
    "outputId": "428e323a-d3a9-463a-c310-ae4a381ff3be"
   },
   "outputs": [],
   "source": [
    "import xgboost\n",
    "model = xgboost.XGBClassifier().fit(X_train, y_train)\n",
    "y_test_predict = model.predict(X_test)\n",
    "y_test_predict"
   ]
  },
  {
   "cell_type": "code",
   "execution_count": null,
   "id": "7bdf0712",
   "metadata": {
    "id": "7bdf0712"
   },
   "outputs": [],
   "source": [
    "fd = FairDetect(model, X_test, y_test)"
   ]
  },
  {
   "cell_type": "markdown",
   "id": "26f6200b",
   "metadata": {
    "id": "26f6200b"
   },
   "source": [
    "<a id='6'></a>\n",
    "## 6. Testing Bias with FairDetect \n",
    "### Representation works now with classes implementation"
   ]
  },
  {
   "cell_type": "code",
   "execution_count": null,
   "id": "2c523061",
   "metadata": {
    "id": "2c523061",
    "outputId": "1c4bd2be-f421-425b-b735-7af202dd2189",
    "scrolled": false
   },
   "outputs": [],
   "source": [
    "sensitive = 'group' # sensible variable one wants to test for biases\n",
    "labels = {0:'GROUP A',1:'GROUP B'} # 0 - GROUP A and 1 - GROUP B Because we dont know yet what Group is referring to\n",
    "fd.identify_bias('group',labels)"
   ]
  },
  {
   "cell_type": "markdown",
   "id": "430f6ebd",
   "metadata": {
    "id": "430f6ebd"
   },
   "source": [
    "With the synthetic dataset, we are provided with five, fact-based features to determine whether a candidate is a Target for a credit card.\n",
    "\n",
    "Among this datase, we are choosing as a sensitive group, the column Group. We do not know however if it makes reference to a civil status, gender, race, nationality or any other attribute. We know however, it is a binary attribute\n",
    "\n",
    "To generate predictions, we will use an XGBoost classifier which received an overall test accuracy of (X%) indicating moderate predictive performance."
   ]
  },
  {
   "cell_type": "markdown",
   "id": "07b5cfc0",
   "metadata": {},
   "source": [
    "## CHANGE WITH GRAPHS INFO ON TOP --- i leave it here, i will retake it later :)"
   ]
  },
  {
   "cell_type": "markdown",
   "id": "1a663796",
   "metadata": {
    "id": "1a663796"
   },
   "source": [
    "we will begin by observing representation factors by firstly looking at the representation of both the sex labels and outcome labels. We can see that there are a lot more males than females in the dataset, and in general, more people are labeled as being of high credit risk. This may indicate that our model will have more opportunities to train on such subgroups.\n",
    "\n",
    "REPRESENTATION\n",
    "\n",
    "<table>\n",
    "    \n",
    "   <tr>\n",
    "       <td></td>\n",
    "       <td>Female</td>\n",
    "       <td>Male</td>\n",
    "    </tr>\n",
    "   <tr>\n",
    "       <td>0</td>\n",
    "       <td>0.347222</td>\n",
    "       <td>0.25781</td>\n",
    "    </tr>\n",
    "   <tr>\n",
    "       <td>1</td>\n",
    "       <td>0.652778</td>\n",
    "       <td>0.74218</td>\n",
    "    </tr>    \n",
    "</table>\n",
    "\n",
    "Finally, testing for demographic parity, we look at the normalized contingency table between our sex categories and the associated predicted risk, running our chisquared assessment we obtain a p of .823, accepting our null hypothesis of independence and indicating no significant relation between the sex and the risk classification. In addition, running the same analysis on our base dataset provides us with a p of .239, once again indicating no major dependencies of the sensitive variable on the target label. Moving then into the principle of ability, we compute our true-positive and false-positive rates.\n",
    "\n",
    "* True Positive Rate for Males 85.26%\n",
    "* True Positive Rate for Females 95.74%\n",
    "\n",
    "Based on our true positive rates, it seems as though we have a small difference be tween sensitive groups, however, running our chi-squared test, we obtain a p of .436, accepting our null, and indicating no significant difference between our true positive rates. This would thus satisfy equal opportunity for both males and females in which both genders have similar high-risk probabilities given that they in fact present a high risk.\n",
    "\n",
    "* False Positive Rate for Males 57.58%\n",
    "* False Positive Rate for Females 52.00%\n",
    "\n",
    "In addition, the false-positive rates for both groups seem rather consistent with a p of .594, allowing us to accept our null hypothesis of no significant differences between the false-positive rates and noting similar levels of high-risk misclassifications for either group.\n",
    "\n",
    "* True Negative Rate for Males 42.42%\n",
    "* True Negative Rate for Females 48.00%\n",
    "\n",
    "Looking at true negative rates in which our model correctly predicted proper low risk classifications we see similar scores for both groups supported by a p of .558, indicating similar levels of proper low-risk classifications for each gender.\n",
    "\n",
    "* False Negative Rate for Males: 14.73%\n",
    "* False Negative Rate for Females: 4.25%\n",
    "\n",
    "Finally looking at false-negative rates we get a different picture, it seems as though males are being incorrectly labeled as being of low risk at a much higher rate than females, supporting this is a p of .016, while this may be insignificant for alpha levels of 10% and 5% it does not satisfy at 1% indicating a potential advantage for men receiving more credit in cases when they should not be, especially when compared to their female counterparts who are not given this privilege.\n",
    "\n",
    "* Precision for Men: 81.00%\n",
    "* Precision for Women: 77.59%\n",
    "\n",
    "\n",
    "Finally, to observe model exacerbation of biases through the lens of predictive parity, 1021 we notice slight differences in the precision scores for both groups. Looking at the chisquared test, however, we obtain a p of .786 signaling low significance of disparity, we are informed that the model is not greatly hindering either group, but rather enforcing  existing disparities. This is complimentary of our previous analysis in which we only hinted at a slight significant disparity among the false-negative rates."
   ]
  },
  {
   "cell_type": "markdown",
   "id": "9045f110",
   "metadata": {
    "id": "9045f110"
   },
   "source": [
    "Having understood the basis of the slight disparity detected, we can isolate the most affected group as being males that are incorrectly classified as having low credit risk. To further investigate, we must dive into the workings of the black-box model. To do so, we will introduce the idea of SHAP through the SHAP library. Our first\n",
    "result is to observe key feature importance based on our sex cohorts."
   ]
  },
  {
   "cell_type": "markdown",
   "id": "e2329eef",
   "metadata": {
    "id": "e2329eef"
   },
   "source": [
    "<a id='7'></a>\n",
    "## 7. SHapley Additive exPlanations (SHAP)\n",
    "SHapley Additive exPlanations (SHAP): The Shapley value is a solution concept in cooperative game theory. It was named in honor of Lloyd Shapley, who introduced it in 1951 and won the Nobel Memorial Prize in Economic Sciences for it in 2012. The objective of this value is to provide the marginal contribution an individual has to a coalition’s output. By observing all the different ways we can compose this coalition, through the inclusion and exclusion of members, and finding the differences in outputs based on individual presence, the shapely value gives us the contribution each member has provided (Roth, 1988). SHapley Additive exPlanations (SHAP) apply this ideology to machine learning models, relating the individuals to features in a dataset, and the coalition output as the predicted value of the model (Lundberg and Lee, 2017)."
   ]
  },
  {
   "cell_type": "code",
   "execution_count": null,
   "id": "73fade0d",
   "metadata": {
    "id": "73fade0d",
    "outputId": "86ade777-a9de-4036-da2e-05472e1ab0c1"
   },
   "outputs": [],
   "source": [
    "!pip install shap"
   ]
  },
  {
   "cell_type": "code",
   "execution_count": null,
   "id": "2121597a",
   "metadata": {
    "id": "2121597a"
   },
   "outputs": [],
   "source": [
    "#pip install markupsafe===2.1.1"
   ]
  },
  {
   "cell_type": "code",
   "execution_count": null,
   "id": "d0822d56",
   "metadata": {
    "id": "d0822d56",
    "scrolled": false
   },
   "outputs": [],
   "source": [
    "sensitive = 'group' # sensible variable one wants to test for biases\n",
    "labels = {0:'GROUP A',1:'GROUP B'} # 0 - Female and 1 - Male\n",
    "fd.understand_shap(labels,'group',1,0)"
   ]
  },
  {
   "cell_type": "markdown",
   "id": "7c88dd33",
   "metadata": {
    "id": "7c88dd33"
   },
   "source": [
    "Observing the graph on the left, we can see the overall feature importance, and on the right, we see the importance of the isolated male, false-negative cases. In general, it seems as though the same factors are considered at roughly the same weight between genders. However, we do notice a larger gap within duration seeing that it is of higher importance to the model with males. Comparing the graph to the isolated FN cases, we immediately notice a big difference in importance between the credit amount observed in the overall outputs as opposed to the subgroup. It is a clear indication that a certain sub characteristic of the male FN group is contributing to the incorrect labels."
   ]
  },
  {
   "cell_type": "markdown",
   "id": "fb28fa8e",
   "metadata": {
    "id": "fb28fa8e"
   },
   "source": [
    "Selecting a random case, we can immediately see our hypothesis in play, as the credit amount of the individual had a significant influence on the model’s decision to predict the candidate as having low risk. However, noticing their checking account label of 0, and cross-checking it with our dataset original labels, we are aware of the candidate being labeled as having a “little” checking account."
   ]
  },
  {
   "cell_type": "markdown",
   "id": "03a84035",
   "metadata": {
    "id": "03a84035"
   },
   "source": [
    "Looking at another random case we again see a similar picture. Although the candidate has a very small checking account, the credit amount and duration pushed the model towards a low-credit risk classification."
   ]
  },
  {
   "cell_type": "markdown",
   "id": "bd921b9a",
   "metadata": {
    "id": "bd921b9a"
   },
   "source": [
    "Finally, by looking at the differences in the average values of the three primary model factors, we can see that the average male, incorrectly labeled as being of low risk tends to have lower checking account labels, a higher credit amount, as well as duration as opposed to people who were correctly labeled as having no risk. Moving into the final “act” stage of our ramework, we can hypothesize that certain men, with small checking accounts, but with higher than average credit amounts and durations could be subject to further inspection to minimize the privilege and minimize risk for the bank. Finally, to culminate the research results, we go into our final case of the synthetic credit card approval dataset in which we will use a Neural Network to cover another model and provide a different view of opaqueness."
   ]
  },
  {
   "cell_type": "markdown",
   "id": "b7c13801",
   "metadata": {},
   "source": [
    "# Documentation of methods (docstrings)"
   ]
  },
  {
   "cell_type": "code",
   "execution_count": null,
   "id": "fc7ee3dd",
   "metadata": {},
   "outputs": [],
   "source": [
    "print (fairdetect_classes.Report.__doc__)"
   ]
  },
  {
   "cell_type": "code",
   "execution_count": null,
   "id": "f7f3cf47",
   "metadata": {},
   "outputs": [],
   "source": [
    "print (fairdetect_classes.Backup.__doc__)"
   ]
  },
  {
   "cell_type": "code",
   "execution_count": null,
   "id": "97c93360",
   "metadata": {},
   "outputs": [],
   "source": [
    "print (fairdetect_classes.EnhancedLabelEncoder.__doc__)"
   ]
  },
  {
   "cell_type": "code",
   "execution_count": null,
   "id": "aa73e530",
   "metadata": {},
   "outputs": [],
   "source": [
    "print (fairdetect_classes.Splitting.__doc__)"
   ]
  },
  {
   "cell_type": "code",
   "execution_count": null,
   "id": "e03b3e98",
   "metadata": {},
   "outputs": [],
   "source": [
    "print (fairdetect_classes.FairDetect.__doc__)"
   ]
  },
  {
   "cell_type": "code",
   "execution_count": null,
   "id": "9adbe7c1",
   "metadata": {},
   "outputs": [],
   "source": [
    "print (fairdetect_classes.FairDetect.__init__.__doc__)"
   ]
  },
  {
   "cell_type": "code",
   "execution_count": null,
   "id": "f4aecc44",
   "metadata": {},
   "outputs": [],
   "source": [
    "print (fairdetect_classes.FairDetect.create_labels.__doc__)"
   ]
  },
  {
   "cell_type": "code",
   "execution_count": null,
   "id": "a496924d",
   "metadata": {},
   "outputs": [],
   "source": [
    "print (fairdetect_classes.FairDetect.representation.__doc__)"
   ]
  },
  {
   "cell_type": "code",
   "execution_count": null,
   "id": "89bc8205",
   "metadata": {},
   "outputs": [],
   "source": [
    "print (fairdetect_classes.FairDetect.ability.__doc__)"
   ]
  },
  {
   "cell_type": "code",
   "execution_count": null,
   "id": "44c1c4e2",
   "metadata": {},
   "outputs": [],
   "source": [
    "print (fairdetect_classes.FairDetect.ability_plots.__doc__)"
   ]
  },
  {
   "cell_type": "code",
   "execution_count": null,
   "id": "864489c0",
   "metadata": {},
   "outputs": [],
   "source": [
    "print (fairdetect_classes.FairDetect.ability_metrics.__doc__)"
   ]
  },
  {
   "cell_type": "code",
   "execution_count": null,
   "id": "16d49f02",
   "metadata": {},
   "outputs": [],
   "source": [
    "print (fairdetect_classes.FairDetect.predictive.__doc__)"
   ]
  },
  {
   "cell_type": "code",
   "execution_count": null,
   "id": "d81736c6",
   "metadata": {},
   "outputs": [],
   "source": [
    "print (fairdetect_classes.FairDetect.identify_bias.__doc__)"
   ]
  },
  {
   "cell_type": "code",
   "execution_count": null,
   "id": "4bc92aa3",
   "metadata": {
    "scrolled": true
   },
   "outputs": [],
   "source": [
    "print (fairdetect_classes.FairDetect.understand_shap.__doc__)"
   ]
  },
  {
   "cell_type": "markdown",
   "id": "f5275343",
   "metadata": {},
   "source": [
    "## Team A - MBD Part Time 2022 - 23"
   ]
  }
 ],
 "metadata": {
  "colab": {
   "collapsed_sections": [
    "22ca8d22",
    "ce2ea8c8",
    "26f6200b",
    "e2329eef",
    "dfa7f8aa",
    "e214e722",
    "276358cc"
   ],
   "name": "fairdetect_test_101.ipynb",
   "provenance": []
  },
  "kernelspec": {
   "display_name": "Python 3 (ipykernel)",
   "language": "python",
   "name": "python3"
  },
  "language_info": {
   "codemirror_mode": {
    "name": "ipython",
    "version": 3
   },
   "file_extension": ".py",
   "mimetype": "text/x-python",
   "name": "python",
   "nbconvert_exporter": "python",
   "pygments_lexer": "ipython3",
   "version": "3.9.12"
  },
  "widgets": {
   "application/vnd.jupyter.widget-state+json": {
    "002cb2ba771c4f5aa4a5d4de234c57b6": {
     "model_module": "@jupyter-widgets/controls",
     "model_module_version": "1.5.0",
     "model_name": "HBoxModel",
     "state": {
      "_dom_classes": [],
      "_model_module": "@jupyter-widgets/controls",
      "_model_module_version": "1.5.0",
      "_model_name": "HBoxModel",
      "_view_count": null,
      "_view_module": "@jupyter-widgets/controls",
      "_view_module_version": "1.5.0",
      "_view_name": "HBoxView",
      "box_style": "",
      "children": [
       "IPY_MODEL_02bbf186c8b9466cbade83ef36e9e096",
       "IPY_MODEL_78221a36de924967a9729f74f70db707",
       "IPY_MODEL_2796893bb6c5458580709166a544b85a"
      ],
      "layout": "IPY_MODEL_0b206d0fae0e4caf83ad7a8ad14b9215"
     }
    },
    "018c7d6bfe1147ca9d02dcaa514845da": {
     "model_module": "@jupyter-widgets/base",
     "model_module_version": "1.2.0",
     "model_name": "LayoutModel",
     "state": {
      "_model_module": "@jupyter-widgets/base",
      "_model_module_version": "1.2.0",
      "_model_name": "LayoutModel",
      "_view_count": null,
      "_view_module": "@jupyter-widgets/base",
      "_view_module_version": "1.2.0",
      "_view_name": "LayoutView",
      "align_content": null,
      "align_items": null,
      "align_self": null,
      "border": null,
      "bottom": null,
      "display": null,
      "flex": null,
      "flex_flow": null,
      "grid_area": null,
      "grid_auto_columns": null,
      "grid_auto_flow": null,
      "grid_auto_rows": null,
      "grid_column": null,
      "grid_gap": null,
      "grid_row": null,
      "grid_template_areas": null,
      "grid_template_columns": null,
      "grid_template_rows": null,
      "height": null,
      "justify_content": null,
      "justify_items": null,
      "left": null,
      "margin": null,
      "max_height": null,
      "max_width": null,
      "min_height": null,
      "min_width": null,
      "object_fit": null,
      "object_position": null,
      "order": null,
      "overflow": null,
      "overflow_x": null,
      "overflow_y": null,
      "padding": null,
      "right": null,
      "top": null,
      "visibility": null,
      "width": null
     }
    },
    "02bbf186c8b9466cbade83ef36e9e096": {
     "model_module": "@jupyter-widgets/controls",
     "model_module_version": "1.5.0",
     "model_name": "HTMLModel",
     "state": {
      "_dom_classes": [],
      "_model_module": "@jupyter-widgets/controls",
      "_model_module_version": "1.5.0",
      "_model_name": "HTMLModel",
      "_view_count": null,
      "_view_module": "@jupyter-widgets/controls",
      "_view_module_version": "1.5.0",
      "_view_name": "HTMLView",
      "description": "",
      "description_tooltip": null,
      "layout": "IPY_MODEL_cc67ebf3e3f14d378ec9d1e1faebe937",
      "placeholder": "​",
      "style": "IPY_MODEL_abaaa0a2cc304c1499813b15259d1728",
      "value": "Generate report structure: 100%"
     }
    },
    "04ebe5a69a4345b5bbf393db812fccea": {
     "model_module": "@jupyter-widgets/controls",
     "model_module_version": "1.5.0",
     "model_name": "HTMLModel",
     "state": {
      "_dom_classes": [],
      "_model_module": "@jupyter-widgets/controls",
      "_model_module_version": "1.5.0",
      "_model_name": "HTMLModel",
      "_view_count": null,
      "_view_module": "@jupyter-widgets/controls",
      "_view_module_version": "1.5.0",
      "_view_name": "HTMLView",
      "description": "",
      "description_tooltip": null,
      "layout": "IPY_MODEL_d0b69f39391140fda5d3a4f7bbdf7c67",
      "placeholder": "​",
      "style": "IPY_MODEL_6e6a8640ddd14cc185b8e1fcade561cc",
      "value": " 25/25 [00:07&lt;00:00,  4.86it/s, Completed]"
     }
    },
    "0b206d0fae0e4caf83ad7a8ad14b9215": {
     "model_module": "@jupyter-widgets/base",
     "model_module_version": "1.2.0",
     "model_name": "LayoutModel",
     "state": {
      "_model_module": "@jupyter-widgets/base",
      "_model_module_version": "1.2.0",
      "_model_name": "LayoutModel",
      "_view_count": null,
      "_view_module": "@jupyter-widgets/base",
      "_view_module_version": "1.2.0",
      "_view_name": "LayoutView",
      "align_content": null,
      "align_items": null,
      "align_self": null,
      "border": null,
      "bottom": null,
      "display": null,
      "flex": null,
      "flex_flow": null,
      "grid_area": null,
      "grid_auto_columns": null,
      "grid_auto_flow": null,
      "grid_auto_rows": null,
      "grid_column": null,
      "grid_gap": null,
      "grid_row": null,
      "grid_template_areas": null,
      "grid_template_columns": null,
      "grid_template_rows": null,
      "height": null,
      "justify_content": null,
      "justify_items": null,
      "left": null,
      "margin": null,
      "max_height": null,
      "max_width": null,
      "min_height": null,
      "min_width": null,
      "object_fit": null,
      "object_position": null,
      "order": null,
      "overflow": null,
      "overflow_x": null,
      "overflow_y": null,
      "padding": null,
      "right": null,
      "top": null,
      "visibility": null,
      "width": null
     }
    },
    "0e863a2f85bd4bd0b83538c11f943620": {
     "model_module": "@jupyter-widgets/base",
     "model_module_version": "1.2.0",
     "model_name": "LayoutModel",
     "state": {
      "_model_module": "@jupyter-widgets/base",
      "_model_module_version": "1.2.0",
      "_model_name": "LayoutModel",
      "_view_count": null,
      "_view_module": "@jupyter-widgets/base",
      "_view_module_version": "1.2.0",
      "_view_name": "LayoutView",
      "align_content": null,
      "align_items": null,
      "align_self": null,
      "border": null,
      "bottom": null,
      "display": null,
      "flex": null,
      "flex_flow": null,
      "grid_area": null,
      "grid_auto_columns": null,
      "grid_auto_flow": null,
      "grid_auto_rows": null,
      "grid_column": null,
      "grid_gap": null,
      "grid_row": null,
      "grid_template_areas": null,
      "grid_template_columns": null,
      "grid_template_rows": null,
      "height": null,
      "justify_content": null,
      "justify_items": null,
      "left": null,
      "margin": null,
      "max_height": null,
      "max_width": null,
      "min_height": null,
      "min_width": null,
      "object_fit": null,
      "object_position": null,
      "order": null,
      "overflow": null,
      "overflow_x": null,
      "overflow_y": null,
      "padding": null,
      "right": null,
      "top": null,
      "visibility": null,
      "width": null
     }
    },
    "16271026912b42a28817bdc0ac50fbab": {
     "model_module": "@jupyter-widgets/controls",
     "model_module_version": "1.5.0",
     "model_name": "FloatProgressModel",
     "state": {
      "_dom_classes": [],
      "_model_module": "@jupyter-widgets/controls",
      "_model_module_version": "1.5.0",
      "_model_name": "FloatProgressModel",
      "_view_count": null,
      "_view_module": "@jupyter-widgets/controls",
      "_view_module_version": "1.5.0",
      "_view_name": "ProgressView",
      "bar_style": "success",
      "description": "",
      "description_tooltip": null,
      "layout": "IPY_MODEL_82f952ee797d4e58bd9429290e90432d",
      "max": 1,
      "min": 0,
      "orientation": "horizontal",
      "style": "IPY_MODEL_d2d55378ff8a4ce5a95aa74138f08496",
      "value": 1
     }
    },
    "21305445d86c42c28a67ba3e8e15e136": {
     "model_module": "@jupyter-widgets/controls",
     "model_module_version": "1.5.0",
     "model_name": "HTMLModel",
     "state": {
      "_dom_classes": [],
      "_model_module": "@jupyter-widgets/controls",
      "_model_module_version": "1.5.0",
      "_model_name": "HTMLModel",
      "_view_count": null,
      "_view_module": "@jupyter-widgets/controls",
      "_view_module_version": "1.5.0",
      "_view_name": "HTMLView",
      "description": "",
      "description_tooltip": null,
      "layout": "IPY_MODEL_add6812343d54bac8094e8fbc9df2d4f",
      "placeholder": "​",
      "style": "IPY_MODEL_d3b4c22bf93646eabe8f5abfb396cb86",
      "value": " 1/1 [00:00&lt;00:00,  1.65it/s]"
     }
    },
    "2796893bb6c5458580709166a544b85a": {
     "model_module": "@jupyter-widgets/controls",
     "model_module_version": "1.5.0",
     "model_name": "HTMLModel",
     "state": {
      "_dom_classes": [],
      "_model_module": "@jupyter-widgets/controls",
      "_model_module_version": "1.5.0",
      "_model_name": "HTMLModel",
      "_view_count": null,
      "_view_module": "@jupyter-widgets/controls",
      "_view_module_version": "1.5.0",
      "_view_name": "HTMLView",
      "description": "",
      "description_tooltip": null,
      "layout": "IPY_MODEL_89fc010e64a941caa59cbb821511b53f",
      "placeholder": "​",
      "style": "IPY_MODEL_5be2b19204c249a188b606ec15f821dc",
      "value": " 1/1 [00:03&lt;00:00,  3.12s/it]"
     }
    },
    "452419c4c7ba49f48e2bdb299783bad9": {
     "model_module": "@jupyter-widgets/controls",
     "model_module_version": "1.5.0",
     "model_name": "HTMLModel",
     "state": {
      "_dom_classes": [],
      "_model_module": "@jupyter-widgets/controls",
      "_model_module_version": "1.5.0",
      "_model_name": "HTMLModel",
      "_view_count": null,
      "_view_module": "@jupyter-widgets/controls",
      "_view_module_version": "1.5.0",
      "_view_name": "HTMLView",
      "description": "",
      "description_tooltip": null,
      "layout": "IPY_MODEL_0e863a2f85bd4bd0b83538c11f943620",
      "placeholder": "​",
      "style": "IPY_MODEL_79d000d00ef74a56a8b38b33574cee90",
      "value": "Summarize dataset: 100%"
     }
    },
    "50a8eabc903d48c58fc8bcee08c8495c": {
     "model_module": "@jupyter-widgets/controls",
     "model_module_version": "1.5.0",
     "model_name": "DescriptionStyleModel",
     "state": {
      "_model_module": "@jupyter-widgets/controls",
      "_model_module_version": "1.5.0",
      "_model_name": "DescriptionStyleModel",
      "_view_count": null,
      "_view_module": "@jupyter-widgets/base",
      "_view_module_version": "1.2.0",
      "_view_name": "StyleView",
      "description_width": ""
     }
    },
    "53d5cbc9e85c40f48cbc6b07517578ca": {
     "model_module": "@jupyter-widgets/base",
     "model_module_version": "1.2.0",
     "model_name": "LayoutModel",
     "state": {
      "_model_module": "@jupyter-widgets/base",
      "_model_module_version": "1.2.0",
      "_model_name": "LayoutModel",
      "_view_count": null,
      "_view_module": "@jupyter-widgets/base",
      "_view_module_version": "1.2.0",
      "_view_name": "LayoutView",
      "align_content": null,
      "align_items": null,
      "align_self": null,
      "border": null,
      "bottom": null,
      "display": null,
      "flex": null,
      "flex_flow": null,
      "grid_area": null,
      "grid_auto_columns": null,
      "grid_auto_flow": null,
      "grid_auto_rows": null,
      "grid_column": null,
      "grid_gap": null,
      "grid_row": null,
      "grid_template_areas": null,
      "grid_template_columns": null,
      "grid_template_rows": null,
      "height": null,
      "justify_content": null,
      "justify_items": null,
      "left": null,
      "margin": null,
      "max_height": null,
      "max_width": null,
      "min_height": null,
      "min_width": null,
      "object_fit": null,
      "object_position": null,
      "order": null,
      "overflow": null,
      "overflow_x": null,
      "overflow_y": null,
      "padding": null,
      "right": null,
      "top": null,
      "visibility": null,
      "width": null
     }
    },
    "5be2b19204c249a188b606ec15f821dc": {
     "model_module": "@jupyter-widgets/controls",
     "model_module_version": "1.5.0",
     "model_name": "DescriptionStyleModel",
     "state": {
      "_model_module": "@jupyter-widgets/controls",
      "_model_module_version": "1.5.0",
      "_model_name": "DescriptionStyleModel",
      "_view_count": null,
      "_view_module": "@jupyter-widgets/base",
      "_view_module_version": "1.2.0",
      "_view_name": "StyleView",
      "description_width": ""
     }
    },
    "6e6a8640ddd14cc185b8e1fcade561cc": {
     "model_module": "@jupyter-widgets/controls",
     "model_module_version": "1.5.0",
     "model_name": "DescriptionStyleModel",
     "state": {
      "_model_module": "@jupyter-widgets/controls",
      "_model_module_version": "1.5.0",
      "_model_name": "DescriptionStyleModel",
      "_view_count": null,
      "_view_module": "@jupyter-widgets/base",
      "_view_module_version": "1.2.0",
      "_view_name": "StyleView",
      "description_width": ""
     }
    },
    "78221a36de924967a9729f74f70db707": {
     "model_module": "@jupyter-widgets/controls",
     "model_module_version": "1.5.0",
     "model_name": "FloatProgressModel",
     "state": {
      "_dom_classes": [],
      "_model_module": "@jupyter-widgets/controls",
      "_model_module_version": "1.5.0",
      "_model_name": "FloatProgressModel",
      "_view_count": null,
      "_view_module": "@jupyter-widgets/controls",
      "_view_module_version": "1.5.0",
      "_view_name": "ProgressView",
      "bar_style": "success",
      "description": "",
      "description_tooltip": null,
      "layout": "IPY_MODEL_53d5cbc9e85c40f48cbc6b07517578ca",
      "max": 1,
      "min": 0,
      "orientation": "horizontal",
      "style": "IPY_MODEL_e134f949e9ae47fbbb9e5b218b081189",
      "value": 1
     }
    },
    "79d000d00ef74a56a8b38b33574cee90": {
     "model_module": "@jupyter-widgets/controls",
     "model_module_version": "1.5.0",
     "model_name": "DescriptionStyleModel",
     "state": {
      "_model_module": "@jupyter-widgets/controls",
      "_model_module_version": "1.5.0",
      "_model_name": "DescriptionStyleModel",
      "_view_count": null,
      "_view_module": "@jupyter-widgets/base",
      "_view_module_version": "1.2.0",
      "_view_name": "StyleView",
      "description_width": ""
     }
    },
    "7b3c713fbaf04ee6bd20a57056d39868": {
     "model_module": "@jupyter-widgets/controls",
     "model_module_version": "1.5.0",
     "model_name": "HBoxModel",
     "state": {
      "_dom_classes": [],
      "_model_module": "@jupyter-widgets/controls",
      "_model_module_version": "1.5.0",
      "_model_name": "HBoxModel",
      "_view_count": null,
      "_view_module": "@jupyter-widgets/controls",
      "_view_module_version": "1.5.0",
      "_view_name": "HBoxView",
      "box_style": "",
      "children": [
       "IPY_MODEL_452419c4c7ba49f48e2bdb299783bad9",
       "IPY_MODEL_ff5fb35d9a254c1f986f967d1549378e",
       "IPY_MODEL_04ebe5a69a4345b5bbf393db812fccea"
      ],
      "layout": "IPY_MODEL_018c7d6bfe1147ca9d02dcaa514845da"
     }
    },
    "7f3634d7df104d17ae99141ba885e08e": {
     "model_module": "@jupyter-widgets/controls",
     "model_module_version": "1.5.0",
     "model_name": "HBoxModel",
     "state": {
      "_dom_classes": [],
      "_model_module": "@jupyter-widgets/controls",
      "_model_module_version": "1.5.0",
      "_model_name": "HBoxModel",
      "_view_count": null,
      "_view_module": "@jupyter-widgets/controls",
      "_view_module_version": "1.5.0",
      "_view_name": "HBoxView",
      "box_style": "",
      "children": [
       "IPY_MODEL_c6bc9bbc441d42e2a3869029c6392fb3",
       "IPY_MODEL_16271026912b42a28817bdc0ac50fbab",
       "IPY_MODEL_21305445d86c42c28a67ba3e8e15e136"
      ],
      "layout": "IPY_MODEL_c157c38dfe8543ae8002b7f4b18f3f01"
     }
    },
    "828a245d1e8a4c898c043086a5945f1a": {
     "model_module": "@jupyter-widgets/controls",
     "model_module_version": "1.5.0",
     "model_name": "ProgressStyleModel",
     "state": {
      "_model_module": "@jupyter-widgets/controls",
      "_model_module_version": "1.5.0",
      "_model_name": "ProgressStyleModel",
      "_view_count": null,
      "_view_module": "@jupyter-widgets/base",
      "_view_module_version": "1.2.0",
      "_view_name": "StyleView",
      "bar_color": null,
      "description_width": ""
     }
    },
    "82f952ee797d4e58bd9429290e90432d": {
     "model_module": "@jupyter-widgets/base",
     "model_module_version": "1.2.0",
     "model_name": "LayoutModel",
     "state": {
      "_model_module": "@jupyter-widgets/base",
      "_model_module_version": "1.2.0",
      "_model_name": "LayoutModel",
      "_view_count": null,
      "_view_module": "@jupyter-widgets/base",
      "_view_module_version": "1.2.0",
      "_view_name": "LayoutView",
      "align_content": null,
      "align_items": null,
      "align_self": null,
      "border": null,
      "bottom": null,
      "display": null,
      "flex": null,
      "flex_flow": null,
      "grid_area": null,
      "grid_auto_columns": null,
      "grid_auto_flow": null,
      "grid_auto_rows": null,
      "grid_column": null,
      "grid_gap": null,
      "grid_row": null,
      "grid_template_areas": null,
      "grid_template_columns": null,
      "grid_template_rows": null,
      "height": null,
      "justify_content": null,
      "justify_items": null,
      "left": null,
      "margin": null,
      "max_height": null,
      "max_width": null,
      "min_height": null,
      "min_width": null,
      "object_fit": null,
      "object_position": null,
      "order": null,
      "overflow": null,
      "overflow_x": null,
      "overflow_y": null,
      "padding": null,
      "right": null,
      "top": null,
      "visibility": null,
      "width": null
     }
    },
    "89fc010e64a941caa59cbb821511b53f": {
     "model_module": "@jupyter-widgets/base",
     "model_module_version": "1.2.0",
     "model_name": "LayoutModel",
     "state": {
      "_model_module": "@jupyter-widgets/base",
      "_model_module_version": "1.2.0",
      "_model_name": "LayoutModel",
      "_view_count": null,
      "_view_module": "@jupyter-widgets/base",
      "_view_module_version": "1.2.0",
      "_view_name": "LayoutView",
      "align_content": null,
      "align_items": null,
      "align_self": null,
      "border": null,
      "bottom": null,
      "display": null,
      "flex": null,
      "flex_flow": null,
      "grid_area": null,
      "grid_auto_columns": null,
      "grid_auto_flow": null,
      "grid_auto_rows": null,
      "grid_column": null,
      "grid_gap": null,
      "grid_row": null,
      "grid_template_areas": null,
      "grid_template_columns": null,
      "grid_template_rows": null,
      "height": null,
      "justify_content": null,
      "justify_items": null,
      "left": null,
      "margin": null,
      "max_height": null,
      "max_width": null,
      "min_height": null,
      "min_width": null,
      "object_fit": null,
      "object_position": null,
      "order": null,
      "overflow": null,
      "overflow_x": null,
      "overflow_y": null,
      "padding": null,
      "right": null,
      "top": null,
      "visibility": null,
      "width": null
     }
    },
    "8b9f69b7b96b4f74b883c3b427d92f06": {
     "model_module": "@jupyter-widgets/base",
     "model_module_version": "1.2.0",
     "model_name": "LayoutModel",
     "state": {
      "_model_module": "@jupyter-widgets/base",
      "_model_module_version": "1.2.0",
      "_model_name": "LayoutModel",
      "_view_count": null,
      "_view_module": "@jupyter-widgets/base",
      "_view_module_version": "1.2.0",
      "_view_name": "LayoutView",
      "align_content": null,
      "align_items": null,
      "align_self": null,
      "border": null,
      "bottom": null,
      "display": null,
      "flex": null,
      "flex_flow": null,
      "grid_area": null,
      "grid_auto_columns": null,
      "grid_auto_flow": null,
      "grid_auto_rows": null,
      "grid_column": null,
      "grid_gap": null,
      "grid_row": null,
      "grid_template_areas": null,
      "grid_template_columns": null,
      "grid_template_rows": null,
      "height": null,
      "justify_content": null,
      "justify_items": null,
      "left": null,
      "margin": null,
      "max_height": null,
      "max_width": null,
      "min_height": null,
      "min_width": null,
      "object_fit": null,
      "object_position": null,
      "order": null,
      "overflow": null,
      "overflow_x": null,
      "overflow_y": null,
      "padding": null,
      "right": null,
      "top": null,
      "visibility": null,
      "width": null
     }
    },
    "abaaa0a2cc304c1499813b15259d1728": {
     "model_module": "@jupyter-widgets/controls",
     "model_module_version": "1.5.0",
     "model_name": "DescriptionStyleModel",
     "state": {
      "_model_module": "@jupyter-widgets/controls",
      "_model_module_version": "1.5.0",
      "_model_name": "DescriptionStyleModel",
      "_view_count": null,
      "_view_module": "@jupyter-widgets/base",
      "_view_module_version": "1.2.0",
      "_view_name": "StyleView",
      "description_width": ""
     }
    },
    "add6812343d54bac8094e8fbc9df2d4f": {
     "model_module": "@jupyter-widgets/base",
     "model_module_version": "1.2.0",
     "model_name": "LayoutModel",
     "state": {
      "_model_module": "@jupyter-widgets/base",
      "_model_module_version": "1.2.0",
      "_model_name": "LayoutModel",
      "_view_count": null,
      "_view_module": "@jupyter-widgets/base",
      "_view_module_version": "1.2.0",
      "_view_name": "LayoutView",
      "align_content": null,
      "align_items": null,
      "align_self": null,
      "border": null,
      "bottom": null,
      "display": null,
      "flex": null,
      "flex_flow": null,
      "grid_area": null,
      "grid_auto_columns": null,
      "grid_auto_flow": null,
      "grid_auto_rows": null,
      "grid_column": null,
      "grid_gap": null,
      "grid_row": null,
      "grid_template_areas": null,
      "grid_template_columns": null,
      "grid_template_rows": null,
      "height": null,
      "justify_content": null,
      "justify_items": null,
      "left": null,
      "margin": null,
      "max_height": null,
      "max_width": null,
      "min_height": null,
      "min_width": null,
      "object_fit": null,
      "object_position": null,
      "order": null,
      "overflow": null,
      "overflow_x": null,
      "overflow_y": null,
      "padding": null,
      "right": null,
      "top": null,
      "visibility": null,
      "width": null
     }
    },
    "c157c38dfe8543ae8002b7f4b18f3f01": {
     "model_module": "@jupyter-widgets/base",
     "model_module_version": "1.2.0",
     "model_name": "LayoutModel",
     "state": {
      "_model_module": "@jupyter-widgets/base",
      "_model_module_version": "1.2.0",
      "_model_name": "LayoutModel",
      "_view_count": null,
      "_view_module": "@jupyter-widgets/base",
      "_view_module_version": "1.2.0",
      "_view_name": "LayoutView",
      "align_content": null,
      "align_items": null,
      "align_self": null,
      "border": null,
      "bottom": null,
      "display": null,
      "flex": null,
      "flex_flow": null,
      "grid_area": null,
      "grid_auto_columns": null,
      "grid_auto_flow": null,
      "grid_auto_rows": null,
      "grid_column": null,
      "grid_gap": null,
      "grid_row": null,
      "grid_template_areas": null,
      "grid_template_columns": null,
      "grid_template_rows": null,
      "height": null,
      "justify_content": null,
      "justify_items": null,
      "left": null,
      "margin": null,
      "max_height": null,
      "max_width": null,
      "min_height": null,
      "min_width": null,
      "object_fit": null,
      "object_position": null,
      "order": null,
      "overflow": null,
      "overflow_x": null,
      "overflow_y": null,
      "padding": null,
      "right": null,
      "top": null,
      "visibility": null,
      "width": null
     }
    },
    "c6bc9bbc441d42e2a3869029c6392fb3": {
     "model_module": "@jupyter-widgets/controls",
     "model_module_version": "1.5.0",
     "model_name": "HTMLModel",
     "state": {
      "_dom_classes": [],
      "_model_module": "@jupyter-widgets/controls",
      "_model_module_version": "1.5.0",
      "_model_name": "HTMLModel",
      "_view_count": null,
      "_view_module": "@jupyter-widgets/controls",
      "_view_module_version": "1.5.0",
      "_view_name": "HTMLView",
      "description": "",
      "description_tooltip": null,
      "layout": "IPY_MODEL_8b9f69b7b96b4f74b883c3b427d92f06",
      "placeholder": "​",
      "style": "IPY_MODEL_50a8eabc903d48c58fc8bcee08c8495c",
      "value": "Render HTML: 100%"
     }
    },
    "cc67ebf3e3f14d378ec9d1e1faebe937": {
     "model_module": "@jupyter-widgets/base",
     "model_module_version": "1.2.0",
     "model_name": "LayoutModel",
     "state": {
      "_model_module": "@jupyter-widgets/base",
      "_model_module_version": "1.2.0",
      "_model_name": "LayoutModel",
      "_view_count": null,
      "_view_module": "@jupyter-widgets/base",
      "_view_module_version": "1.2.0",
      "_view_name": "LayoutView",
      "align_content": null,
      "align_items": null,
      "align_self": null,
      "border": null,
      "bottom": null,
      "display": null,
      "flex": null,
      "flex_flow": null,
      "grid_area": null,
      "grid_auto_columns": null,
      "grid_auto_flow": null,
      "grid_auto_rows": null,
      "grid_column": null,
      "grid_gap": null,
      "grid_row": null,
      "grid_template_areas": null,
      "grid_template_columns": null,
      "grid_template_rows": null,
      "height": null,
      "justify_content": null,
      "justify_items": null,
      "left": null,
      "margin": null,
      "max_height": null,
      "max_width": null,
      "min_height": null,
      "min_width": null,
      "object_fit": null,
      "object_position": null,
      "order": null,
      "overflow": null,
      "overflow_x": null,
      "overflow_y": null,
      "padding": null,
      "right": null,
      "top": null,
      "visibility": null,
      "width": null
     }
    },
    "d0b69f39391140fda5d3a4f7bbdf7c67": {
     "model_module": "@jupyter-widgets/base",
     "model_module_version": "1.2.0",
     "model_name": "LayoutModel",
     "state": {
      "_model_module": "@jupyter-widgets/base",
      "_model_module_version": "1.2.0",
      "_model_name": "LayoutModel",
      "_view_count": null,
      "_view_module": "@jupyter-widgets/base",
      "_view_module_version": "1.2.0",
      "_view_name": "LayoutView",
      "align_content": null,
      "align_items": null,
      "align_self": null,
      "border": null,
      "bottom": null,
      "display": null,
      "flex": null,
      "flex_flow": null,
      "grid_area": null,
      "grid_auto_columns": null,
      "grid_auto_flow": null,
      "grid_auto_rows": null,
      "grid_column": null,
      "grid_gap": null,
      "grid_row": null,
      "grid_template_areas": null,
      "grid_template_columns": null,
      "grid_template_rows": null,
      "height": null,
      "justify_content": null,
      "justify_items": null,
      "left": null,
      "margin": null,
      "max_height": null,
      "max_width": null,
      "min_height": null,
      "min_width": null,
      "object_fit": null,
      "object_position": null,
      "order": null,
      "overflow": null,
      "overflow_x": null,
      "overflow_y": null,
      "padding": null,
      "right": null,
      "top": null,
      "visibility": null,
      "width": null
     }
    },
    "d2d55378ff8a4ce5a95aa74138f08496": {
     "model_module": "@jupyter-widgets/controls",
     "model_module_version": "1.5.0",
     "model_name": "ProgressStyleModel",
     "state": {
      "_model_module": "@jupyter-widgets/controls",
      "_model_module_version": "1.5.0",
      "_model_name": "ProgressStyleModel",
      "_view_count": null,
      "_view_module": "@jupyter-widgets/base",
      "_view_module_version": "1.2.0",
      "_view_name": "StyleView",
      "bar_color": null,
      "description_width": ""
     }
    },
    "d3b4c22bf93646eabe8f5abfb396cb86": {
     "model_module": "@jupyter-widgets/controls",
     "model_module_version": "1.5.0",
     "model_name": "DescriptionStyleModel",
     "state": {
      "_model_module": "@jupyter-widgets/controls",
      "_model_module_version": "1.5.0",
      "_model_name": "DescriptionStyleModel",
      "_view_count": null,
      "_view_module": "@jupyter-widgets/base",
      "_view_module_version": "1.2.0",
      "_view_name": "StyleView",
      "description_width": ""
     }
    },
    "db5764731ec841ae977c105c676f293c": {
     "model_module": "@jupyter-widgets/base",
     "model_module_version": "1.2.0",
     "model_name": "LayoutModel",
     "state": {
      "_model_module": "@jupyter-widgets/base",
      "_model_module_version": "1.2.0",
      "_model_name": "LayoutModel",
      "_view_count": null,
      "_view_module": "@jupyter-widgets/base",
      "_view_module_version": "1.2.0",
      "_view_name": "LayoutView",
      "align_content": null,
      "align_items": null,
      "align_self": null,
      "border": null,
      "bottom": null,
      "display": null,
      "flex": null,
      "flex_flow": null,
      "grid_area": null,
      "grid_auto_columns": null,
      "grid_auto_flow": null,
      "grid_auto_rows": null,
      "grid_column": null,
      "grid_gap": null,
      "grid_row": null,
      "grid_template_areas": null,
      "grid_template_columns": null,
      "grid_template_rows": null,
      "height": null,
      "justify_content": null,
      "justify_items": null,
      "left": null,
      "margin": null,
      "max_height": null,
      "max_width": null,
      "min_height": null,
      "min_width": null,
      "object_fit": null,
      "object_position": null,
      "order": null,
      "overflow": null,
      "overflow_x": null,
      "overflow_y": null,
      "padding": null,
      "right": null,
      "top": null,
      "visibility": null,
      "width": null
     }
    },
    "e134f949e9ae47fbbb9e5b218b081189": {
     "model_module": "@jupyter-widgets/controls",
     "model_module_version": "1.5.0",
     "model_name": "ProgressStyleModel",
     "state": {
      "_model_module": "@jupyter-widgets/controls",
      "_model_module_version": "1.5.0",
      "_model_name": "ProgressStyleModel",
      "_view_count": null,
      "_view_module": "@jupyter-widgets/base",
      "_view_module_version": "1.2.0",
      "_view_name": "StyleView",
      "bar_color": null,
      "description_width": ""
     }
    },
    "ff5fb35d9a254c1f986f967d1549378e": {
     "model_module": "@jupyter-widgets/controls",
     "model_module_version": "1.5.0",
     "model_name": "FloatProgressModel",
     "state": {
      "_dom_classes": [],
      "_model_module": "@jupyter-widgets/controls",
      "_model_module_version": "1.5.0",
      "_model_name": "FloatProgressModel",
      "_view_count": null,
      "_view_module": "@jupyter-widgets/controls",
      "_view_module_version": "1.5.0",
      "_view_name": "ProgressView",
      "bar_style": "success",
      "description": "",
      "description_tooltip": null,
      "layout": "IPY_MODEL_db5764731ec841ae977c105c676f293c",
      "max": 5,
      "min": 0,
      "orientation": "horizontal",
      "style": "IPY_MODEL_828a245d1e8a4c898c043086a5945f1a",
      "value": 5
     }
    }
   }
  }
 },
 "nbformat": 4,
 "nbformat_minor": 5
}
